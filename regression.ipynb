{
 "cells": [
  {
   "cell_type": "code",
   "execution_count": 13,
   "metadata": {},
   "outputs": [],
   "source": [
    "import pandas as pd\n",
    "from pandas.plotting import scatter_matrix\n",
    "import numpy as np\n",
    "import matplotlib.pyplot as plt\n",
    "from sklearn.preprocessing import StandardScaler\n",
    "from sklearn import linear_model\n",
    "from sklearn.metrics import mean_squared_error, r2_score\n",
    "from sklearn.model_selection import KFold\n",
    "from scipy.optimize import minimize\n",
    "import random"
   ]
  },
  {
   "cell_type": "code",
   "execution_count": 14,
   "metadata": {},
   "outputs": [
    {
     "data": {
      "text/html": [
       "<div>\n",
       "<style scoped>\n",
       "    .dataframe tbody tr th:only-of-type {\n",
       "        vertical-align: middle;\n",
       "    }\n",
       "\n",
       "    .dataframe tbody tr th {\n",
       "        vertical-align: top;\n",
       "    }\n",
       "\n",
       "    .dataframe thead th {\n",
       "        text-align: right;\n",
       "    }\n",
       "</style>\n",
       "<table border=\"1\" class=\"dataframe\">\n",
       "  <thead>\n",
       "    <tr style=\"text-align: right;\">\n",
       "      <th></th>\n",
       "      <th>id</th>\n",
       "      <th>AssessTot</th>\n",
       "      <th>LotFront</th>\n",
       "      <th>NumFloors</th>\n",
       "      <th>ComArea</th>\n",
       "      <th>ResArea</th>\n",
       "      <th>OfficeArea</th>\n",
       "      <th>RetailArea</th>\n",
       "      <th>GarageArea</th>\n",
       "      <th>StrgeArea</th>\n",
       "      <th>...</th>\n",
       "      <th>LandUse_8</th>\n",
       "      <th>LandUse_9</th>\n",
       "      <th>LandUse_10</th>\n",
       "      <th>OwnerType_C</th>\n",
       "      <th>OwnerType_M</th>\n",
       "      <th>OwnerType_O</th>\n",
       "      <th>OwnerType_P</th>\n",
       "      <th>OwnerType_X</th>\n",
       "      <th>Zone</th>\n",
       "      <th>LandUse</th>\n",
       "    </tr>\n",
       "  </thead>\n",
       "  <tbody>\n",
       "    <tr>\n",
       "      <th>0</th>\n",
       "      <td>0</td>\n",
       "      <td>156510900</td>\n",
       "      <td>0.00</td>\n",
       "      <td>0.0</td>\n",
       "      <td>2725731</td>\n",
       "      <td>0</td>\n",
       "      <td>0</td>\n",
       "      <td>0</td>\n",
       "      <td>0</td>\n",
       "      <td>0</td>\n",
       "      <td>...</td>\n",
       "      <td>1</td>\n",
       "      <td>0</td>\n",
       "      <td>0</td>\n",
       "      <td>0</td>\n",
       "      <td>0</td>\n",
       "      <td>0</td>\n",
       "      <td>1</td>\n",
       "      <td>0</td>\n",
       "      <td>L Manhattan</td>\n",
       "      <td>8</td>\n",
       "    </tr>\n",
       "    <tr>\n",
       "      <th>1</th>\n",
       "      <td>1</td>\n",
       "      <td>12197250</td>\n",
       "      <td>500.00</td>\n",
       "      <td>0.0</td>\n",
       "      <td>541886</td>\n",
       "      <td>0</td>\n",
       "      <td>0</td>\n",
       "      <td>0</td>\n",
       "      <td>0</td>\n",
       "      <td>0</td>\n",
       "      <td>...</td>\n",
       "      <td>1</td>\n",
       "      <td>0</td>\n",
       "      <td>0</td>\n",
       "      <td>0</td>\n",
       "      <td>0</td>\n",
       "      <td>0</td>\n",
       "      <td>0</td>\n",
       "      <td>1</td>\n",
       "      <td>L Manhattan</td>\n",
       "      <td>8</td>\n",
       "    </tr>\n",
       "    <tr>\n",
       "      <th>2</th>\n",
       "      <td>6</td>\n",
       "      <td>25390080</td>\n",
       "      <td>311.00</td>\n",
       "      <td>5.0</td>\n",
       "      <td>158197</td>\n",
       "      <td>0</td>\n",
       "      <td>0</td>\n",
       "      <td>0</td>\n",
       "      <td>0</td>\n",
       "      <td>0</td>\n",
       "      <td>...</td>\n",
       "      <td>0</td>\n",
       "      <td>0</td>\n",
       "      <td>0</td>\n",
       "      <td>1</td>\n",
       "      <td>0</td>\n",
       "      <td>0</td>\n",
       "      <td>0</td>\n",
       "      <td>0</td>\n",
       "      <td>L Manhattan</td>\n",
       "      <td>7</td>\n",
       "    </tr>\n",
       "    <tr>\n",
       "      <th>3</th>\n",
       "      <td>8</td>\n",
       "      <td>17134650</td>\n",
       "      <td>793.67</td>\n",
       "      <td>2.0</td>\n",
       "      <td>24346</td>\n",
       "      <td>0</td>\n",
       "      <td>0</td>\n",
       "      <td>0</td>\n",
       "      <td>0</td>\n",
       "      <td>0</td>\n",
       "      <td>...</td>\n",
       "      <td>0</td>\n",
       "      <td>0</td>\n",
       "      <td>0</td>\n",
       "      <td>1</td>\n",
       "      <td>0</td>\n",
       "      <td>0</td>\n",
       "      <td>0</td>\n",
       "      <td>0</td>\n",
       "      <td>L Manhattan</td>\n",
       "      <td>7</td>\n",
       "    </tr>\n",
       "    <tr>\n",
       "      <th>4</th>\n",
       "      <td>9</td>\n",
       "      <td>129665250</td>\n",
       "      <td>323.00</td>\n",
       "      <td>1.0</td>\n",
       "      <td>945425</td>\n",
       "      <td>0</td>\n",
       "      <td>0</td>\n",
       "      <td>0</td>\n",
       "      <td>0</td>\n",
       "      <td>0</td>\n",
       "      <td>...</td>\n",
       "      <td>0</td>\n",
       "      <td>1</td>\n",
       "      <td>0</td>\n",
       "      <td>1</td>\n",
       "      <td>0</td>\n",
       "      <td>0</td>\n",
       "      <td>0</td>\n",
       "      <td>0</td>\n",
       "      <td>L Manhattan</td>\n",
       "      <td>9</td>\n",
       "    </tr>\n",
       "    <tr>\n",
       "      <th>5</th>\n",
       "      <td>19</td>\n",
       "      <td>327600</td>\n",
       "      <td>19.00</td>\n",
       "      <td>4.5</td>\n",
       "      <td>4104</td>\n",
       "      <td>0</td>\n",
       "      <td>1026</td>\n",
       "      <td>3078</td>\n",
       "      <td>0</td>\n",
       "      <td>0</td>\n",
       "      <td>...</td>\n",
       "      <td>0</td>\n",
       "      <td>0</td>\n",
       "      <td>0</td>\n",
       "      <td>0</td>\n",
       "      <td>0</td>\n",
       "      <td>0</td>\n",
       "      <td>1</td>\n",
       "      <td>0</td>\n",
       "      <td>L Manhattan</td>\n",
       "      <td>4</td>\n",
       "    </tr>\n",
       "    <tr>\n",
       "      <th>6</th>\n",
       "      <td>22</td>\n",
       "      <td>943650</td>\n",
       "      <td>36.17</td>\n",
       "      <td>5.0</td>\n",
       "      <td>4485</td>\n",
       "      <td>2990</td>\n",
       "      <td>1495</td>\n",
       "      <td>2990</td>\n",
       "      <td>0</td>\n",
       "      <td>0</td>\n",
       "      <td>...</td>\n",
       "      <td>0</td>\n",
       "      <td>0</td>\n",
       "      <td>0</td>\n",
       "      <td>0</td>\n",
       "      <td>0</td>\n",
       "      <td>0</td>\n",
       "      <td>1</td>\n",
       "      <td>0</td>\n",
       "      <td>L Manhattan</td>\n",
       "      <td>4</td>\n",
       "    </tr>\n",
       "    <tr>\n",
       "      <th>7</th>\n",
       "      <td>26</td>\n",
       "      <td>535090</td>\n",
       "      <td>28.42</td>\n",
       "      <td>5.0</td>\n",
       "      <td>3012</td>\n",
       "      <td>4473</td>\n",
       "      <td>1491</td>\n",
       "      <td>1521</td>\n",
       "      <td>0</td>\n",
       "      <td>0</td>\n",
       "      <td>...</td>\n",
       "      <td>0</td>\n",
       "      <td>0</td>\n",
       "      <td>0</td>\n",
       "      <td>0</td>\n",
       "      <td>0</td>\n",
       "      <td>0</td>\n",
       "      <td>1</td>\n",
       "      <td>0</td>\n",
       "      <td>L Manhattan</td>\n",
       "      <td>4</td>\n",
       "    </tr>\n",
       "    <tr>\n",
       "      <th>8</th>\n",
       "      <td>29</td>\n",
       "      <td>6046650</td>\n",
       "      <td>78.92</td>\n",
       "      <td>7.5</td>\n",
       "      <td>0</td>\n",
       "      <td>0</td>\n",
       "      <td>0</td>\n",
       "      <td>0</td>\n",
       "      <td>0</td>\n",
       "      <td>0</td>\n",
       "      <td>...</td>\n",
       "      <td>0</td>\n",
       "      <td>0</td>\n",
       "      <td>0</td>\n",
       "      <td>0</td>\n",
       "      <td>0</td>\n",
       "      <td>0</td>\n",
       "      <td>1</td>\n",
       "      <td>0</td>\n",
       "      <td>L Manhattan</td>\n",
       "      <td>5</td>\n",
       "    </tr>\n",
       "    <tr>\n",
       "      <th>9</th>\n",
       "      <td>33</td>\n",
       "      <td>138236850</td>\n",
       "      <td>211.33</td>\n",
       "      <td>32.0</td>\n",
       "      <td>845018</td>\n",
       "      <td>0</td>\n",
       "      <td>839651</td>\n",
       "      <td>5367</td>\n",
       "      <td>0</td>\n",
       "      <td>0</td>\n",
       "      <td>...</td>\n",
       "      <td>0</td>\n",
       "      <td>0</td>\n",
       "      <td>0</td>\n",
       "      <td>0</td>\n",
       "      <td>0</td>\n",
       "      <td>0</td>\n",
       "      <td>1</td>\n",
       "      <td>0</td>\n",
       "      <td>L Manhattan</td>\n",
       "      <td>5</td>\n",
       "    </tr>\n",
       "    <tr>\n",
       "      <th>10</th>\n",
       "      <td>34</td>\n",
       "      <td>2866050</td>\n",
       "      <td>60.75</td>\n",
       "      <td>4.5</td>\n",
       "      <td>8685</td>\n",
       "      <td>0</td>\n",
       "      <td>0</td>\n",
       "      <td>0</td>\n",
       "      <td>0</td>\n",
       "      <td>0</td>\n",
       "      <td>...</td>\n",
       "      <td>1</td>\n",
       "      <td>0</td>\n",
       "      <td>0</td>\n",
       "      <td>0</td>\n",
       "      <td>0</td>\n",
       "      <td>0</td>\n",
       "      <td>0</td>\n",
       "      <td>1</td>\n",
       "      <td>L Manhattan</td>\n",
       "      <td>8</td>\n",
       "    </tr>\n",
       "    <tr>\n",
       "      <th>11</th>\n",
       "      <td>35</td>\n",
       "      <td>59250600</td>\n",
       "      <td>227.83</td>\n",
       "      <td>42.0</td>\n",
       "      <td>544015</td>\n",
       "      <td>0</td>\n",
       "      <td>542515</td>\n",
       "      <td>0</td>\n",
       "      <td>0</td>\n",
       "      <td>1500</td>\n",
       "      <td>...</td>\n",
       "      <td>0</td>\n",
       "      <td>0</td>\n",
       "      <td>0</td>\n",
       "      <td>0</td>\n",
       "      <td>0</td>\n",
       "      <td>0</td>\n",
       "      <td>1</td>\n",
       "      <td>0</td>\n",
       "      <td>L Manhattan</td>\n",
       "      <td>5</td>\n",
       "    </tr>\n",
       "    <tr>\n",
       "      <th>12</th>\n",
       "      <td>36</td>\n",
       "      <td>67492800</td>\n",
       "      <td>133.92</td>\n",
       "      <td>35.0</td>\n",
       "      <td>896956</td>\n",
       "      <td>0</td>\n",
       "      <td>864078</td>\n",
       "      <td>2878</td>\n",
       "      <td>30000</td>\n",
       "      <td>0</td>\n",
       "      <td>...</td>\n",
       "      <td>0</td>\n",
       "      <td>0</td>\n",
       "      <td>0</td>\n",
       "      <td>0</td>\n",
       "      <td>0</td>\n",
       "      <td>0</td>\n",
       "      <td>1</td>\n",
       "      <td>0</td>\n",
       "      <td>L Manhattan</td>\n",
       "      <td>5</td>\n",
       "    </tr>\n",
       "    <tr>\n",
       "      <th>13</th>\n",
       "      <td>38</td>\n",
       "      <td>37711350</td>\n",
       "      <td>81.92</td>\n",
       "      <td>30.0</td>\n",
       "      <td>365792</td>\n",
       "      <td>0</td>\n",
       "      <td>365792</td>\n",
       "      <td>0</td>\n",
       "      <td>0</td>\n",
       "      <td>0</td>\n",
       "      <td>...</td>\n",
       "      <td>0</td>\n",
       "      <td>0</td>\n",
       "      <td>0</td>\n",
       "      <td>0</td>\n",
       "      <td>0</td>\n",
       "      <td>0</td>\n",
       "      <td>1</td>\n",
       "      <td>0</td>\n",
       "      <td>L Manhattan</td>\n",
       "      <td>5</td>\n",
       "    </tr>\n",
       "    <tr>\n",
       "      <th>14</th>\n",
       "      <td>40</td>\n",
       "      <td>27268650</td>\n",
       "      <td>121.33</td>\n",
       "      <td>24.0</td>\n",
       "      <td>336025</td>\n",
       "      <td>0</td>\n",
       "      <td>317613</td>\n",
       "      <td>18412</td>\n",
       "      <td>0</td>\n",
       "      <td>0</td>\n",
       "      <td>...</td>\n",
       "      <td>0</td>\n",
       "      <td>0</td>\n",
       "      <td>0</td>\n",
       "      <td>0</td>\n",
       "      <td>0</td>\n",
       "      <td>0</td>\n",
       "      <td>1</td>\n",
       "      <td>0</td>\n",
       "      <td>L Manhattan</td>\n",
       "      <td>5</td>\n",
       "    </tr>\n",
       "    <tr>\n",
       "      <th>15</th>\n",
       "      <td>42</td>\n",
       "      <td>24878700</td>\n",
       "      <td>121.75</td>\n",
       "      <td>21.0</td>\n",
       "      <td>321994</td>\n",
       "      <td>0</td>\n",
       "      <td>307948</td>\n",
       "      <td>14046</td>\n",
       "      <td>0</td>\n",
       "      <td>0</td>\n",
       "      <td>...</td>\n",
       "      <td>0</td>\n",
       "      <td>0</td>\n",
       "      <td>0</td>\n",
       "      <td>0</td>\n",
       "      <td>0</td>\n",
       "      <td>0</td>\n",
       "      <td>1</td>\n",
       "      <td>0</td>\n",
       "      <td>L Manhattan</td>\n",
       "      <td>5</td>\n",
       "    </tr>\n",
       "    <tr>\n",
       "      <th>16</th>\n",
       "      <td>45</td>\n",
       "      <td>167409450</td>\n",
       "      <td>307.42</td>\n",
       "      <td>32.0</td>\n",
       "      <td>1529480</td>\n",
       "      <td>0</td>\n",
       "      <td>1454568</td>\n",
       "      <td>45000</td>\n",
       "      <td>29912</td>\n",
       "      <td>0</td>\n",
       "      <td>...</td>\n",
       "      <td>0</td>\n",
       "      <td>0</td>\n",
       "      <td>0</td>\n",
       "      <td>0</td>\n",
       "      <td>0</td>\n",
       "      <td>0</td>\n",
       "      <td>1</td>\n",
       "      <td>0</td>\n",
       "      <td>L Manhattan</td>\n",
       "      <td>5</td>\n",
       "    </tr>\n",
       "    <tr>\n",
       "      <th>17</th>\n",
       "      <td>54</td>\n",
       "      <td>23765850</td>\n",
       "      <td>131.08</td>\n",
       "      <td>35.0</td>\n",
       "      <td>361710</td>\n",
       "      <td>0</td>\n",
       "      <td>348615</td>\n",
       "      <td>12000</td>\n",
       "      <td>0</td>\n",
       "      <td>1095</td>\n",
       "      <td>...</td>\n",
       "      <td>0</td>\n",
       "      <td>0</td>\n",
       "      <td>0</td>\n",
       "      <td>0</td>\n",
       "      <td>0</td>\n",
       "      <td>0</td>\n",
       "      <td>1</td>\n",
       "      <td>0</td>\n",
       "      <td>L Manhattan</td>\n",
       "      <td>5</td>\n",
       "    </tr>\n",
       "    <tr>\n",
       "      <th>18</th>\n",
       "      <td>59</td>\n",
       "      <td>49698900</td>\n",
       "      <td>191.08</td>\n",
       "      <td>7.0</td>\n",
       "      <td>320665</td>\n",
       "      <td>0</td>\n",
       "      <td>320665</td>\n",
       "      <td>0</td>\n",
       "      <td>0</td>\n",
       "      <td>0</td>\n",
       "      <td>...</td>\n",
       "      <td>1</td>\n",
       "      <td>0</td>\n",
       "      <td>0</td>\n",
       "      <td>0</td>\n",
       "      <td>0</td>\n",
       "      <td>0</td>\n",
       "      <td>0</td>\n",
       "      <td>1</td>\n",
       "      <td>L Manhattan</td>\n",
       "      <td>8</td>\n",
       "    </tr>\n",
       "    <tr>\n",
       "      <th>19</th>\n",
       "      <td>61</td>\n",
       "      <td>16934850</td>\n",
       "      <td>96.33</td>\n",
       "      <td>14.0</td>\n",
       "      <td>180646</td>\n",
       "      <td>0</td>\n",
       "      <td>176146</td>\n",
       "      <td>4500</td>\n",
       "      <td>0</td>\n",
       "      <td>0</td>\n",
       "      <td>...</td>\n",
       "      <td>0</td>\n",
       "      <td>0</td>\n",
       "      <td>0</td>\n",
       "      <td>0</td>\n",
       "      <td>0</td>\n",
       "      <td>0</td>\n",
       "      <td>1</td>\n",
       "      <td>0</td>\n",
       "      <td>L Manhattan</td>\n",
       "      <td>5</td>\n",
       "    </tr>\n",
       "    <tr>\n",
       "      <th>20</th>\n",
       "      <td>62</td>\n",
       "      <td>29257650</td>\n",
       "      <td>162.33</td>\n",
       "      <td>22.0</td>\n",
       "      <td>434220</td>\n",
       "      <td>0</td>\n",
       "      <td>411720</td>\n",
       "      <td>22500</td>\n",
       "      <td>0</td>\n",
       "      <td>0</td>\n",
       "      <td>...</td>\n",
       "      <td>0</td>\n",
       "      <td>0</td>\n",
       "      <td>0</td>\n",
       "      <td>0</td>\n",
       "      <td>0</td>\n",
       "      <td>0</td>\n",
       "      <td>1</td>\n",
       "      <td>0</td>\n",
       "      <td>L Manhattan</td>\n",
       "      <td>5</td>\n",
       "    </tr>\n",
       "    <tr>\n",
       "      <th>21</th>\n",
       "      <td>63</td>\n",
       "      <td>84184200</td>\n",
       "      <td>202.92</td>\n",
       "      <td>23.0</td>\n",
       "      <td>809401</td>\n",
       "      <td>0</td>\n",
       "      <td>587215</td>\n",
       "      <td>42000</td>\n",
       "      <td>0</td>\n",
       "      <td>301</td>\n",
       "      <td>...</td>\n",
       "      <td>0</td>\n",
       "      <td>0</td>\n",
       "      <td>0</td>\n",
       "      <td>0</td>\n",
       "      <td>0</td>\n",
       "      <td>0</td>\n",
       "      <td>1</td>\n",
       "      <td>0</td>\n",
       "      <td>L Manhattan</td>\n",
       "      <td>5</td>\n",
       "    </tr>\n",
       "    <tr>\n",
       "      <th>22</th>\n",
       "      <td>64</td>\n",
       "      <td>28481400</td>\n",
       "      <td>75.00</td>\n",
       "      <td>31.0</td>\n",
       "      <td>4000</td>\n",
       "      <td>331746</td>\n",
       "      <td>0</td>\n",
       "      <td>4000</td>\n",
       "      <td>0</td>\n",
       "      <td>0</td>\n",
       "      <td>...</td>\n",
       "      <td>0</td>\n",
       "      <td>0</td>\n",
       "      <td>0</td>\n",
       "      <td>0</td>\n",
       "      <td>0</td>\n",
       "      <td>0</td>\n",
       "      <td>1</td>\n",
       "      <td>0</td>\n",
       "      <td>L Manhattan</td>\n",
       "      <td>3</td>\n",
       "    </tr>\n",
       "    <tr>\n",
       "      <th>23</th>\n",
       "      <td>65</td>\n",
       "      <td>103923450</td>\n",
       "      <td>180.67</td>\n",
       "      <td>31.0</td>\n",
       "      <td>756035</td>\n",
       "      <td>446382</td>\n",
       "      <td>756035</td>\n",
       "      <td>0</td>\n",
       "      <td>0</td>\n",
       "      <td>0</td>\n",
       "      <td>...</td>\n",
       "      <td>0</td>\n",
       "      <td>0</td>\n",
       "      <td>0</td>\n",
       "      <td>0</td>\n",
       "      <td>0</td>\n",
       "      <td>0</td>\n",
       "      <td>1</td>\n",
       "      <td>0</td>\n",
       "      <td>L Manhattan</td>\n",
       "      <td>4</td>\n",
       "    </tr>\n",
       "    <tr>\n",
       "      <th>24</th>\n",
       "      <td>67</td>\n",
       "      <td>7381350</td>\n",
       "      <td>77.00</td>\n",
       "      <td>3.0</td>\n",
       "      <td>28732</td>\n",
       "      <td>0</td>\n",
       "      <td>0</td>\n",
       "      <td>28732</td>\n",
       "      <td>0</td>\n",
       "      <td>0</td>\n",
       "      <td>...</td>\n",
       "      <td>0</td>\n",
       "      <td>0</td>\n",
       "      <td>0</td>\n",
       "      <td>1</td>\n",
       "      <td>0</td>\n",
       "      <td>0</td>\n",
       "      <td>0</td>\n",
       "      <td>0</td>\n",
       "      <td>L Manhattan</td>\n",
       "      <td>5</td>\n",
       "    </tr>\n",
       "    <tr>\n",
       "      <th>25</th>\n",
       "      <td>69</td>\n",
       "      <td>35468100</td>\n",
       "      <td>214.00</td>\n",
       "      <td>4.0</td>\n",
       "      <td>114100</td>\n",
       "      <td>0</td>\n",
       "      <td>0</td>\n",
       "      <td>0</td>\n",
       "      <td>0</td>\n",
       "      <td>0</td>\n",
       "      <td>...</td>\n",
       "      <td>1</td>\n",
       "      <td>0</td>\n",
       "      <td>0</td>\n",
       "      <td>0</td>\n",
       "      <td>0</td>\n",
       "      <td>0</td>\n",
       "      <td>0</td>\n",
       "      <td>1</td>\n",
       "      <td>L Manhattan</td>\n",
       "      <td>8</td>\n",
       "    </tr>\n",
       "    <tr>\n",
       "      <th>26</th>\n",
       "      <td>71</td>\n",
       "      <td>18171000</td>\n",
       "      <td>200.00</td>\n",
       "      <td>9.0</td>\n",
       "      <td>8400</td>\n",
       "      <td>230765</td>\n",
       "      <td>0</td>\n",
       "      <td>0</td>\n",
       "      <td>8400</td>\n",
       "      <td>0</td>\n",
       "      <td>...</td>\n",
       "      <td>0</td>\n",
       "      <td>0</td>\n",
       "      <td>0</td>\n",
       "      <td>0</td>\n",
       "      <td>0</td>\n",
       "      <td>0</td>\n",
       "      <td>0</td>\n",
       "      <td>1</td>\n",
       "      <td>L Manhattan</td>\n",
       "      <td>3</td>\n",
       "    </tr>\n",
       "    <tr>\n",
       "      <th>27</th>\n",
       "      <td>72</td>\n",
       "      <td>17366850</td>\n",
       "      <td>198.00</td>\n",
       "      <td>9.0</td>\n",
       "      <td>0</td>\n",
       "      <td>230765</td>\n",
       "      <td>0</td>\n",
       "      <td>0</td>\n",
       "      <td>0</td>\n",
       "      <td>0</td>\n",
       "      <td>...</td>\n",
       "      <td>0</td>\n",
       "      <td>0</td>\n",
       "      <td>0</td>\n",
       "      <td>0</td>\n",
       "      <td>0</td>\n",
       "      <td>0</td>\n",
       "      <td>0</td>\n",
       "      <td>1</td>\n",
       "      <td>L Manhattan</td>\n",
       "      <td>3</td>\n",
       "    </tr>\n",
       "    <tr>\n",
       "      <th>28</th>\n",
       "      <td>73</td>\n",
       "      <td>22563900</td>\n",
       "      <td>199.00</td>\n",
       "      <td>8.0</td>\n",
       "      <td>134082</td>\n",
       "      <td>0</td>\n",
       "      <td>0</td>\n",
       "      <td>0</td>\n",
       "      <td>0</td>\n",
       "      <td>0</td>\n",
       "      <td>...</td>\n",
       "      <td>1</td>\n",
       "      <td>0</td>\n",
       "      <td>0</td>\n",
       "      <td>0</td>\n",
       "      <td>0</td>\n",
       "      <td>1</td>\n",
       "      <td>0</td>\n",
       "      <td>0</td>\n",
       "      <td>L Manhattan</td>\n",
       "      <td>8</td>\n",
       "    </tr>\n",
       "    <tr>\n",
       "      <th>29</th>\n",
       "      <td>74</td>\n",
       "      <td>155637000</td>\n",
       "      <td>257.17</td>\n",
       "      <td>5.0</td>\n",
       "      <td>153929</td>\n",
       "      <td>1727692</td>\n",
       "      <td>0</td>\n",
       "      <td>21188</td>\n",
       "      <td>48112</td>\n",
       "      <td>0</td>\n",
       "      <td>...</td>\n",
       "      <td>0</td>\n",
       "      <td>0</td>\n",
       "      <td>0</td>\n",
       "      <td>0</td>\n",
       "      <td>0</td>\n",
       "      <td>1</td>\n",
       "      <td>0</td>\n",
       "      <td>0</td>\n",
       "      <td>L Manhattan</td>\n",
       "      <td>4</td>\n",
       "    </tr>\n",
       "    <tr>\n",
       "      <th>...</th>\n",
       "      <td>...</td>\n",
       "      <td>...</td>\n",
       "      <td>...</td>\n",
       "      <td>...</td>\n",
       "      <td>...</td>\n",
       "      <td>...</td>\n",
       "      <td>...</td>\n",
       "      <td>...</td>\n",
       "      <td>...</td>\n",
       "      <td>...</td>\n",
       "      <td>...</td>\n",
       "      <td>...</td>\n",
       "      <td>...</td>\n",
       "      <td>...</td>\n",
       "      <td>...</td>\n",
       "      <td>...</td>\n",
       "      <td>...</td>\n",
       "      <td>...</td>\n",
       "      <td>...</td>\n",
       "      <td>...</td>\n",
       "      <td>...</td>\n",
       "    </tr>\n",
       "    <tr>\n",
       "      <th>15982</th>\n",
       "      <td>42825</td>\n",
       "      <td>1088550</td>\n",
       "      <td>62.50</td>\n",
       "      <td>5.0</td>\n",
       "      <td>1000</td>\n",
       "      <td>22035</td>\n",
       "      <td>1000</td>\n",
       "      <td>0</td>\n",
       "      <td>0</td>\n",
       "      <td>0</td>\n",
       "      <td>...</td>\n",
       "      <td>0</td>\n",
       "      <td>0</td>\n",
       "      <td>0</td>\n",
       "      <td>0</td>\n",
       "      <td>0</td>\n",
       "      <td>0</td>\n",
       "      <td>1</td>\n",
       "      <td>0</td>\n",
       "      <td>WAHI</td>\n",
       "      <td>4</td>\n",
       "    </tr>\n",
       "    <tr>\n",
       "      <th>15983</th>\n",
       "      <td>42841</td>\n",
       "      <td>386550</td>\n",
       "      <td>102.00</td>\n",
       "      <td>2.0</td>\n",
       "      <td>9900</td>\n",
       "      <td>0</td>\n",
       "      <td>9900</td>\n",
       "      <td>0</td>\n",
       "      <td>0</td>\n",
       "      <td>0</td>\n",
       "      <td>...</td>\n",
       "      <td>0</td>\n",
       "      <td>0</td>\n",
       "      <td>0</td>\n",
       "      <td>0</td>\n",
       "      <td>0</td>\n",
       "      <td>0</td>\n",
       "      <td>1</td>\n",
       "      <td>0</td>\n",
       "      <td>WAHI</td>\n",
       "      <td>5</td>\n",
       "    </tr>\n",
       "    <tr>\n",
       "      <th>15984</th>\n",
       "      <td>42845</td>\n",
       "      <td>488250</td>\n",
       "      <td>75.00</td>\n",
       "      <td>2.5</td>\n",
       "      <td>9762</td>\n",
       "      <td>0</td>\n",
       "      <td>0</td>\n",
       "      <td>3400</td>\n",
       "      <td>6362</td>\n",
       "      <td>0</td>\n",
       "      <td>...</td>\n",
       "      <td>0</td>\n",
       "      <td>0</td>\n",
       "      <td>0</td>\n",
       "      <td>0</td>\n",
       "      <td>0</td>\n",
       "      <td>0</td>\n",
       "      <td>1</td>\n",
       "      <td>0</td>\n",
       "      <td>WAHI</td>\n",
       "      <td>7</td>\n",
       "    </tr>\n",
       "    <tr>\n",
       "      <th>15985</th>\n",
       "      <td>42846</td>\n",
       "      <td>447300</td>\n",
       "      <td>50.00</td>\n",
       "      <td>1.0</td>\n",
       "      <td>5000</td>\n",
       "      <td>0</td>\n",
       "      <td>0</td>\n",
       "      <td>5000</td>\n",
       "      <td>0</td>\n",
       "      <td>0</td>\n",
       "      <td>...</td>\n",
       "      <td>0</td>\n",
       "      <td>0</td>\n",
       "      <td>0</td>\n",
       "      <td>0</td>\n",
       "      <td>0</td>\n",
       "      <td>0</td>\n",
       "      <td>1</td>\n",
       "      <td>0</td>\n",
       "      <td>WAHI</td>\n",
       "      <td>5</td>\n",
       "    </tr>\n",
       "    <tr>\n",
       "      <th>15986</th>\n",
       "      <td>42847</td>\n",
       "      <td>1137600</td>\n",
       "      <td>50.00</td>\n",
       "      <td>2.0</td>\n",
       "      <td>9350</td>\n",
       "      <td>0</td>\n",
       "      <td>0</td>\n",
       "      <td>9350</td>\n",
       "      <td>0</td>\n",
       "      <td>0</td>\n",
       "      <td>...</td>\n",
       "      <td>1</td>\n",
       "      <td>0</td>\n",
       "      <td>0</td>\n",
       "      <td>0</td>\n",
       "      <td>0</td>\n",
       "      <td>0</td>\n",
       "      <td>1</td>\n",
       "      <td>0</td>\n",
       "      <td>WAHI</td>\n",
       "      <td>8</td>\n",
       "    </tr>\n",
       "    <tr>\n",
       "      <th>15987</th>\n",
       "      <td>42851</td>\n",
       "      <td>702000</td>\n",
       "      <td>90.00</td>\n",
       "      <td>5.0</td>\n",
       "      <td>2800</td>\n",
       "      <td>29699</td>\n",
       "      <td>0</td>\n",
       "      <td>2800</td>\n",
       "      <td>0</td>\n",
       "      <td>0</td>\n",
       "      <td>...</td>\n",
       "      <td>0</td>\n",
       "      <td>0</td>\n",
       "      <td>0</td>\n",
       "      <td>0</td>\n",
       "      <td>0</td>\n",
       "      <td>0</td>\n",
       "      <td>1</td>\n",
       "      <td>0</td>\n",
       "      <td>WAHI</td>\n",
       "      <td>4</td>\n",
       "    </tr>\n",
       "    <tr>\n",
       "      <th>15988</th>\n",
       "      <td>42862</td>\n",
       "      <td>34045</td>\n",
       "      <td>24.50</td>\n",
       "      <td>2.0</td>\n",
       "      <td>0</td>\n",
       "      <td>2250</td>\n",
       "      <td>0</td>\n",
       "      <td>0</td>\n",
       "      <td>0</td>\n",
       "      <td>0</td>\n",
       "      <td>...</td>\n",
       "      <td>0</td>\n",
       "      <td>0</td>\n",
       "      <td>0</td>\n",
       "      <td>0</td>\n",
       "      <td>0</td>\n",
       "      <td>0</td>\n",
       "      <td>0</td>\n",
       "      <td>1</td>\n",
       "      <td>WAHI</td>\n",
       "      <td>1</td>\n",
       "    </tr>\n",
       "    <tr>\n",
       "      <th>15989</th>\n",
       "      <td>42864</td>\n",
       "      <td>1006200</td>\n",
       "      <td>103.58</td>\n",
       "      <td>6.0</td>\n",
       "      <td>0</td>\n",
       "      <td>41176</td>\n",
       "      <td>0</td>\n",
       "      <td>0</td>\n",
       "      <td>0</td>\n",
       "      <td>0</td>\n",
       "      <td>...</td>\n",
       "      <td>0</td>\n",
       "      <td>0</td>\n",
       "      <td>0</td>\n",
       "      <td>0</td>\n",
       "      <td>0</td>\n",
       "      <td>0</td>\n",
       "      <td>1</td>\n",
       "      <td>0</td>\n",
       "      <td>WAHI</td>\n",
       "      <td>3</td>\n",
       "    </tr>\n",
       "    <tr>\n",
       "      <th>15990</th>\n",
       "      <td>42871</td>\n",
       "      <td>2792700</td>\n",
       "      <td>100.25</td>\n",
       "      <td>5.0</td>\n",
       "      <td>60180</td>\n",
       "      <td>0</td>\n",
       "      <td>0</td>\n",
       "      <td>0</td>\n",
       "      <td>0</td>\n",
       "      <td>0</td>\n",
       "      <td>...</td>\n",
       "      <td>1</td>\n",
       "      <td>0</td>\n",
       "      <td>0</td>\n",
       "      <td>0</td>\n",
       "      <td>0</td>\n",
       "      <td>0</td>\n",
       "      <td>1</td>\n",
       "      <td>0</td>\n",
       "      <td>WAHI</td>\n",
       "      <td>8</td>\n",
       "    </tr>\n",
       "    <tr>\n",
       "      <th>15991</th>\n",
       "      <td>42874</td>\n",
       "      <td>2114100</td>\n",
       "      <td>100.00</td>\n",
       "      <td>6.0</td>\n",
       "      <td>0</td>\n",
       "      <td>47180</td>\n",
       "      <td>0</td>\n",
       "      <td>0</td>\n",
       "      <td>0</td>\n",
       "      <td>0</td>\n",
       "      <td>...</td>\n",
       "      <td>0</td>\n",
       "      <td>0</td>\n",
       "      <td>0</td>\n",
       "      <td>0</td>\n",
       "      <td>0</td>\n",
       "      <td>0</td>\n",
       "      <td>1</td>\n",
       "      <td>0</td>\n",
       "      <td>WAHI</td>\n",
       "      <td>3</td>\n",
       "    </tr>\n",
       "    <tr>\n",
       "      <th>15992</th>\n",
       "      <td>42875</td>\n",
       "      <td>758700</td>\n",
       "      <td>46.17</td>\n",
       "      <td>5.0</td>\n",
       "      <td>0</td>\n",
       "      <td>19585</td>\n",
       "      <td>0</td>\n",
       "      <td>0</td>\n",
       "      <td>0</td>\n",
       "      <td>0</td>\n",
       "      <td>...</td>\n",
       "      <td>0</td>\n",
       "      <td>0</td>\n",
       "      <td>0</td>\n",
       "      <td>0</td>\n",
       "      <td>0</td>\n",
       "      <td>0</td>\n",
       "      <td>1</td>\n",
       "      <td>0</td>\n",
       "      <td>WAHI</td>\n",
       "      <td>2</td>\n",
       "    </tr>\n",
       "    <tr>\n",
       "      <th>15993</th>\n",
       "      <td>42892</td>\n",
       "      <td>32532750</td>\n",
       "      <td>1438.75</td>\n",
       "      <td>2.0</td>\n",
       "      <td>151794</td>\n",
       "      <td>0</td>\n",
       "      <td>0</td>\n",
       "      <td>0</td>\n",
       "      <td>3490</td>\n",
       "      <td>0</td>\n",
       "      <td>...</td>\n",
       "      <td>0</td>\n",
       "      <td>1</td>\n",
       "      <td>0</td>\n",
       "      <td>0</td>\n",
       "      <td>0</td>\n",
       "      <td>0</td>\n",
       "      <td>1</td>\n",
       "      <td>0</td>\n",
       "      <td>WAHI</td>\n",
       "      <td>9</td>\n",
       "    </tr>\n",
       "    <tr>\n",
       "      <th>15994</th>\n",
       "      <td>42893</td>\n",
       "      <td>45359874</td>\n",
       "      <td>502.00</td>\n",
       "      <td>3.0</td>\n",
       "      <td>249390</td>\n",
       "      <td>0</td>\n",
       "      <td>0</td>\n",
       "      <td>0</td>\n",
       "      <td>0</td>\n",
       "      <td>0</td>\n",
       "      <td>...</td>\n",
       "      <td>1</td>\n",
       "      <td>0</td>\n",
       "      <td>0</td>\n",
       "      <td>0</td>\n",
       "      <td>0</td>\n",
       "      <td>0</td>\n",
       "      <td>1</td>\n",
       "      <td>0</td>\n",
       "      <td>WAHI</td>\n",
       "      <td>8</td>\n",
       "    </tr>\n",
       "    <tr>\n",
       "      <th>15995</th>\n",
       "      <td>42896</td>\n",
       "      <td>624150</td>\n",
       "      <td>100.00</td>\n",
       "      <td>2.0</td>\n",
       "      <td>34570</td>\n",
       "      <td>0</td>\n",
       "      <td>0</td>\n",
       "      <td>0</td>\n",
       "      <td>0</td>\n",
       "      <td>0</td>\n",
       "      <td>...</td>\n",
       "      <td>0</td>\n",
       "      <td>0</td>\n",
       "      <td>0</td>\n",
       "      <td>0</td>\n",
       "      <td>0</td>\n",
       "      <td>0</td>\n",
       "      <td>1</td>\n",
       "      <td>0</td>\n",
       "      <td>WAHI</td>\n",
       "      <td>6</td>\n",
       "    </tr>\n",
       "    <tr>\n",
       "      <th>15996</th>\n",
       "      <td>42897</td>\n",
       "      <td>977400</td>\n",
       "      <td>100.00</td>\n",
       "      <td>2.0</td>\n",
       "      <td>32440</td>\n",
       "      <td>0</td>\n",
       "      <td>0</td>\n",
       "      <td>0</td>\n",
       "      <td>32440</td>\n",
       "      <td>0</td>\n",
       "      <td>...</td>\n",
       "      <td>0</td>\n",
       "      <td>0</td>\n",
       "      <td>1</td>\n",
       "      <td>0</td>\n",
       "      <td>0</td>\n",
       "      <td>0</td>\n",
       "      <td>1</td>\n",
       "      <td>0</td>\n",
       "      <td>WAHI</td>\n",
       "      <td>10</td>\n",
       "    </tr>\n",
       "    <tr>\n",
       "      <th>15997</th>\n",
       "      <td>42898</td>\n",
       "      <td>1205550</td>\n",
       "      <td>100.00</td>\n",
       "      <td>3.0</td>\n",
       "      <td>46200</td>\n",
       "      <td>0</td>\n",
       "      <td>0</td>\n",
       "      <td>0</td>\n",
       "      <td>46200</td>\n",
       "      <td>0</td>\n",
       "      <td>...</td>\n",
       "      <td>0</td>\n",
       "      <td>0</td>\n",
       "      <td>1</td>\n",
       "      <td>0</td>\n",
       "      <td>0</td>\n",
       "      <td>0</td>\n",
       "      <td>1</td>\n",
       "      <td>0</td>\n",
       "      <td>WAHI</td>\n",
       "      <td>10</td>\n",
       "    </tr>\n",
       "    <tr>\n",
       "      <th>15998</th>\n",
       "      <td>42899</td>\n",
       "      <td>341550</td>\n",
       "      <td>150.00</td>\n",
       "      <td>2.0</td>\n",
       "      <td>27100</td>\n",
       "      <td>0</td>\n",
       "      <td>0</td>\n",
       "      <td>0</td>\n",
       "      <td>13550</td>\n",
       "      <td>0</td>\n",
       "      <td>...</td>\n",
       "      <td>0</td>\n",
       "      <td>0</td>\n",
       "      <td>0</td>\n",
       "      <td>0</td>\n",
       "      <td>0</td>\n",
       "      <td>0</td>\n",
       "      <td>1</td>\n",
       "      <td>0</td>\n",
       "      <td>WAHI</td>\n",
       "      <td>6</td>\n",
       "    </tr>\n",
       "    <tr>\n",
       "      <th>15999</th>\n",
       "      <td>42900</td>\n",
       "      <td>621900</td>\n",
       "      <td>83.50</td>\n",
       "      <td>1.0</td>\n",
       "      <td>1820</td>\n",
       "      <td>0</td>\n",
       "      <td>0</td>\n",
       "      <td>0</td>\n",
       "      <td>1820</td>\n",
       "      <td>0</td>\n",
       "      <td>...</td>\n",
       "      <td>0</td>\n",
       "      <td>0</td>\n",
       "      <td>0</td>\n",
       "      <td>0</td>\n",
       "      <td>0</td>\n",
       "      <td>0</td>\n",
       "      <td>1</td>\n",
       "      <td>0</td>\n",
       "      <td>WAHI</td>\n",
       "      <td>7</td>\n",
       "    </tr>\n",
       "    <tr>\n",
       "      <th>16000</th>\n",
       "      <td>42901</td>\n",
       "      <td>1924650</td>\n",
       "      <td>213.58</td>\n",
       "      <td>6.0</td>\n",
       "      <td>0</td>\n",
       "      <td>57796</td>\n",
       "      <td>0</td>\n",
       "      <td>0</td>\n",
       "      <td>0</td>\n",
       "      <td>0</td>\n",
       "      <td>...</td>\n",
       "      <td>0</td>\n",
       "      <td>0</td>\n",
       "      <td>0</td>\n",
       "      <td>0</td>\n",
       "      <td>0</td>\n",
       "      <td>0</td>\n",
       "      <td>1</td>\n",
       "      <td>0</td>\n",
       "      <td>WAHI</td>\n",
       "      <td>3</td>\n",
       "    </tr>\n",
       "    <tr>\n",
       "      <th>16001</th>\n",
       "      <td>42902</td>\n",
       "      <td>2815200</td>\n",
       "      <td>115.92</td>\n",
       "      <td>1.5</td>\n",
       "      <td>13000</td>\n",
       "      <td>0</td>\n",
       "      <td>0</td>\n",
       "      <td>0</td>\n",
       "      <td>0</td>\n",
       "      <td>0</td>\n",
       "      <td>...</td>\n",
       "      <td>1</td>\n",
       "      <td>0</td>\n",
       "      <td>0</td>\n",
       "      <td>0</td>\n",
       "      <td>0</td>\n",
       "      <td>0</td>\n",
       "      <td>1</td>\n",
       "      <td>0</td>\n",
       "      <td>WAHI</td>\n",
       "      <td>8</td>\n",
       "    </tr>\n",
       "    <tr>\n",
       "      <th>16002</th>\n",
       "      <td>42908</td>\n",
       "      <td>2624400</td>\n",
       "      <td>132.42</td>\n",
       "      <td>6.0</td>\n",
       "      <td>0</td>\n",
       "      <td>53436</td>\n",
       "      <td>0</td>\n",
       "      <td>0</td>\n",
       "      <td>0</td>\n",
       "      <td>0</td>\n",
       "      <td>...</td>\n",
       "      <td>0</td>\n",
       "      <td>0</td>\n",
       "      <td>0</td>\n",
       "      <td>0</td>\n",
       "      <td>0</td>\n",
       "      <td>0</td>\n",
       "      <td>1</td>\n",
       "      <td>0</td>\n",
       "      <td>WAHI</td>\n",
       "      <td>3</td>\n",
       "    </tr>\n",
       "    <tr>\n",
       "      <th>16003</th>\n",
       "      <td>42909</td>\n",
       "      <td>39650</td>\n",
       "      <td>32.75</td>\n",
       "      <td>3.0</td>\n",
       "      <td>0</td>\n",
       "      <td>5266</td>\n",
       "      <td>0</td>\n",
       "      <td>0</td>\n",
       "      <td>0</td>\n",
       "      <td>0</td>\n",
       "      <td>...</td>\n",
       "      <td>0</td>\n",
       "      <td>0</td>\n",
       "      <td>0</td>\n",
       "      <td>0</td>\n",
       "      <td>0</td>\n",
       "      <td>0</td>\n",
       "      <td>1</td>\n",
       "      <td>0</td>\n",
       "      <td>WAHI</td>\n",
       "      <td>2</td>\n",
       "    </tr>\n",
       "    <tr>\n",
       "      <th>16004</th>\n",
       "      <td>42911</td>\n",
       "      <td>143912</td>\n",
       "      <td>28.00</td>\n",
       "      <td>2.0</td>\n",
       "      <td>0</td>\n",
       "      <td>3084</td>\n",
       "      <td>0</td>\n",
       "      <td>0</td>\n",
       "      <td>0</td>\n",
       "      <td>0</td>\n",
       "      <td>...</td>\n",
       "      <td>0</td>\n",
       "      <td>0</td>\n",
       "      <td>0</td>\n",
       "      <td>0</td>\n",
       "      <td>0</td>\n",
       "      <td>0</td>\n",
       "      <td>1</td>\n",
       "      <td>0</td>\n",
       "      <td>WAHI</td>\n",
       "      <td>2</td>\n",
       "    </tr>\n",
       "    <tr>\n",
       "      <th>16005</th>\n",
       "      <td>42916</td>\n",
       "      <td>34478</td>\n",
       "      <td>28.00</td>\n",
       "      <td>2.0</td>\n",
       "      <td>0</td>\n",
       "      <td>3800</td>\n",
       "      <td>0</td>\n",
       "      <td>0</td>\n",
       "      <td>0</td>\n",
       "      <td>0</td>\n",
       "      <td>...</td>\n",
       "      <td>0</td>\n",
       "      <td>0</td>\n",
       "      <td>0</td>\n",
       "      <td>0</td>\n",
       "      <td>0</td>\n",
       "      <td>0</td>\n",
       "      <td>1</td>\n",
       "      <td>0</td>\n",
       "      <td>WAHI</td>\n",
       "      <td>2</td>\n",
       "    </tr>\n",
       "    <tr>\n",
       "      <th>16006</th>\n",
       "      <td>42923</td>\n",
       "      <td>2172600</td>\n",
       "      <td>126.17</td>\n",
       "      <td>6.0</td>\n",
       "      <td>0</td>\n",
       "      <td>82272</td>\n",
       "      <td>0</td>\n",
       "      <td>0</td>\n",
       "      <td>0</td>\n",
       "      <td>0</td>\n",
       "      <td>...</td>\n",
       "      <td>0</td>\n",
       "      <td>0</td>\n",
       "      <td>0</td>\n",
       "      <td>0</td>\n",
       "      <td>0</td>\n",
       "      <td>0</td>\n",
       "      <td>1</td>\n",
       "      <td>0</td>\n",
       "      <td>WAHI</td>\n",
       "      <td>3</td>\n",
       "    </tr>\n",
       "    <tr>\n",
       "      <th>16007</th>\n",
       "      <td>42925</td>\n",
       "      <td>158850</td>\n",
       "      <td>47.50</td>\n",
       "      <td>2.0</td>\n",
       "      <td>2758</td>\n",
       "      <td>0</td>\n",
       "      <td>2758</td>\n",
       "      <td>0</td>\n",
       "      <td>0</td>\n",
       "      <td>0</td>\n",
       "      <td>...</td>\n",
       "      <td>1</td>\n",
       "      <td>0</td>\n",
       "      <td>0</td>\n",
       "      <td>0</td>\n",
       "      <td>0</td>\n",
       "      <td>0</td>\n",
       "      <td>0</td>\n",
       "      <td>1</td>\n",
       "      <td>WAHI</td>\n",
       "      <td>8</td>\n",
       "    </tr>\n",
       "    <tr>\n",
       "      <th>16008</th>\n",
       "      <td>42928</td>\n",
       "      <td>1683900</td>\n",
       "      <td>152.08</td>\n",
       "      <td>6.0</td>\n",
       "      <td>0</td>\n",
       "      <td>61584</td>\n",
       "      <td>0</td>\n",
       "      <td>0</td>\n",
       "      <td>0</td>\n",
       "      <td>0</td>\n",
       "      <td>...</td>\n",
       "      <td>0</td>\n",
       "      <td>0</td>\n",
       "      <td>0</td>\n",
       "      <td>0</td>\n",
       "      <td>0</td>\n",
       "      <td>0</td>\n",
       "      <td>1</td>\n",
       "      <td>0</td>\n",
       "      <td>WAHI</td>\n",
       "      <td>3</td>\n",
       "    </tr>\n",
       "    <tr>\n",
       "      <th>16009</th>\n",
       "      <td>42935</td>\n",
       "      <td>28812</td>\n",
       "      <td>25.00</td>\n",
       "      <td>2.0</td>\n",
       "      <td>0</td>\n",
       "      <td>3700</td>\n",
       "      <td>0</td>\n",
       "      <td>0</td>\n",
       "      <td>0</td>\n",
       "      <td>0</td>\n",
       "      <td>...</td>\n",
       "      <td>0</td>\n",
       "      <td>0</td>\n",
       "      <td>0</td>\n",
       "      <td>0</td>\n",
       "      <td>0</td>\n",
       "      <td>0</td>\n",
       "      <td>1</td>\n",
       "      <td>0</td>\n",
       "      <td>WAHI</td>\n",
       "      <td>1</td>\n",
       "    </tr>\n",
       "    <tr>\n",
       "      <th>16010</th>\n",
       "      <td>42936</td>\n",
       "      <td>120668</td>\n",
       "      <td>25.00</td>\n",
       "      <td>2.5</td>\n",
       "      <td>0</td>\n",
       "      <td>2690</td>\n",
       "      <td>0</td>\n",
       "      <td>0</td>\n",
       "      <td>0</td>\n",
       "      <td>0</td>\n",
       "      <td>...</td>\n",
       "      <td>0</td>\n",
       "      <td>0</td>\n",
       "      <td>0</td>\n",
       "      <td>0</td>\n",
       "      <td>0</td>\n",
       "      <td>0</td>\n",
       "      <td>1</td>\n",
       "      <td>0</td>\n",
       "      <td>WAHI</td>\n",
       "      <td>2</td>\n",
       "    </tr>\n",
       "    <tr>\n",
       "      <th>16011</th>\n",
       "      <td>42940</td>\n",
       "      <td>1697850</td>\n",
       "      <td>110.00</td>\n",
       "      <td>6.0</td>\n",
       "      <td>0</td>\n",
       "      <td>42933</td>\n",
       "      <td>0</td>\n",
       "      <td>0</td>\n",
       "      <td>0</td>\n",
       "      <td>0</td>\n",
       "      <td>...</td>\n",
       "      <td>0</td>\n",
       "      <td>0</td>\n",
       "      <td>0</td>\n",
       "      <td>0</td>\n",
       "      <td>0</td>\n",
       "      <td>0</td>\n",
       "      <td>1</td>\n",
       "      <td>0</td>\n",
       "      <td>WAHI</td>\n",
       "      <td>3</td>\n",
       "    </tr>\n",
       "  </tbody>\n",
       "</table>\n",
       "<p>16012 rows × 47 columns</p>\n",
       "</div>"
      ],
      "text/plain": [
       "          id  AssessTot  LotFront  NumFloors  ComArea  ResArea  OfficeArea  \\\n",
       "0          0  156510900      0.00        0.0  2725731        0           0   \n",
       "1          1   12197250    500.00        0.0   541886        0           0   \n",
       "2          6   25390080    311.00        5.0   158197        0           0   \n",
       "3          8   17134650    793.67        2.0    24346        0           0   \n",
       "4          9  129665250    323.00        1.0   945425        0           0   \n",
       "5         19     327600     19.00        4.5     4104        0        1026   \n",
       "6         22     943650     36.17        5.0     4485     2990        1495   \n",
       "7         26     535090     28.42        5.0     3012     4473        1491   \n",
       "8         29    6046650     78.92        7.5        0        0           0   \n",
       "9         33  138236850    211.33       32.0   845018        0      839651   \n",
       "10        34    2866050     60.75        4.5     8685        0           0   \n",
       "11        35   59250600    227.83       42.0   544015        0      542515   \n",
       "12        36   67492800    133.92       35.0   896956        0      864078   \n",
       "13        38   37711350     81.92       30.0   365792        0      365792   \n",
       "14        40   27268650    121.33       24.0   336025        0      317613   \n",
       "15        42   24878700    121.75       21.0   321994        0      307948   \n",
       "16        45  167409450    307.42       32.0  1529480        0     1454568   \n",
       "17        54   23765850    131.08       35.0   361710        0      348615   \n",
       "18        59   49698900    191.08        7.0   320665        0      320665   \n",
       "19        61   16934850     96.33       14.0   180646        0      176146   \n",
       "20        62   29257650    162.33       22.0   434220        0      411720   \n",
       "21        63   84184200    202.92       23.0   809401        0      587215   \n",
       "22        64   28481400     75.00       31.0     4000   331746           0   \n",
       "23        65  103923450    180.67       31.0   756035   446382      756035   \n",
       "24        67    7381350     77.00        3.0    28732        0           0   \n",
       "25        69   35468100    214.00        4.0   114100        0           0   \n",
       "26        71   18171000    200.00        9.0     8400   230765           0   \n",
       "27        72   17366850    198.00        9.0        0   230765           0   \n",
       "28        73   22563900    199.00        8.0   134082        0           0   \n",
       "29        74  155637000    257.17        5.0   153929  1727692           0   \n",
       "...      ...        ...       ...        ...      ...      ...         ...   \n",
       "15982  42825    1088550     62.50        5.0     1000    22035        1000   \n",
       "15983  42841     386550    102.00        2.0     9900        0        9900   \n",
       "15984  42845     488250     75.00        2.5     9762        0           0   \n",
       "15985  42846     447300     50.00        1.0     5000        0           0   \n",
       "15986  42847    1137600     50.00        2.0     9350        0           0   \n",
       "15987  42851     702000     90.00        5.0     2800    29699           0   \n",
       "15988  42862      34045     24.50        2.0        0     2250           0   \n",
       "15989  42864    1006200    103.58        6.0        0    41176           0   \n",
       "15990  42871    2792700    100.25        5.0    60180        0           0   \n",
       "15991  42874    2114100    100.00        6.0        0    47180           0   \n",
       "15992  42875     758700     46.17        5.0        0    19585           0   \n",
       "15993  42892   32532750   1438.75        2.0   151794        0           0   \n",
       "15994  42893   45359874    502.00        3.0   249390        0           0   \n",
       "15995  42896     624150    100.00        2.0    34570        0           0   \n",
       "15996  42897     977400    100.00        2.0    32440        0           0   \n",
       "15997  42898    1205550    100.00        3.0    46200        0           0   \n",
       "15998  42899     341550    150.00        2.0    27100        0           0   \n",
       "15999  42900     621900     83.50        1.0     1820        0           0   \n",
       "16000  42901    1924650    213.58        6.0        0    57796           0   \n",
       "16001  42902    2815200    115.92        1.5    13000        0           0   \n",
       "16002  42908    2624400    132.42        6.0        0    53436           0   \n",
       "16003  42909      39650     32.75        3.0        0     5266           0   \n",
       "16004  42911     143912     28.00        2.0        0     3084           0   \n",
       "16005  42916      34478     28.00        2.0        0     3800           0   \n",
       "16006  42923    2172600    126.17        6.0        0    82272           0   \n",
       "16007  42925     158850     47.50        2.0     2758        0        2758   \n",
       "16008  42928    1683900    152.08        6.0        0    61584           0   \n",
       "16009  42935      28812     25.00        2.0        0     3700           0   \n",
       "16010  42936     120668     25.00        2.5        0     2690           0   \n",
       "16011  42940    1697850    110.00        6.0        0    42933           0   \n",
       "\n",
       "       RetailArea  GarageArea  StrgeArea   ...     LandUse_8  LandUse_9  \\\n",
       "0               0           0          0   ...             1          0   \n",
       "1               0           0          0   ...             1          0   \n",
       "2               0           0          0   ...             0          0   \n",
       "3               0           0          0   ...             0          0   \n",
       "4               0           0          0   ...             0          1   \n",
       "5            3078           0          0   ...             0          0   \n",
       "6            2990           0          0   ...             0          0   \n",
       "7            1521           0          0   ...             0          0   \n",
       "8               0           0          0   ...             0          0   \n",
       "9            5367           0          0   ...             0          0   \n",
       "10              0           0          0   ...             1          0   \n",
       "11              0           0       1500   ...             0          0   \n",
       "12           2878       30000          0   ...             0          0   \n",
       "13              0           0          0   ...             0          0   \n",
       "14          18412           0          0   ...             0          0   \n",
       "15          14046           0          0   ...             0          0   \n",
       "16          45000       29912          0   ...             0          0   \n",
       "17          12000           0       1095   ...             0          0   \n",
       "18              0           0          0   ...             1          0   \n",
       "19           4500           0          0   ...             0          0   \n",
       "20          22500           0          0   ...             0          0   \n",
       "21          42000           0        301   ...             0          0   \n",
       "22           4000           0          0   ...             0          0   \n",
       "23              0           0          0   ...             0          0   \n",
       "24          28732           0          0   ...             0          0   \n",
       "25              0           0          0   ...             1          0   \n",
       "26              0        8400          0   ...             0          0   \n",
       "27              0           0          0   ...             0          0   \n",
       "28              0           0          0   ...             1          0   \n",
       "29          21188       48112          0   ...             0          0   \n",
       "...           ...         ...        ...   ...           ...        ...   \n",
       "15982           0           0          0   ...             0          0   \n",
       "15983           0           0          0   ...             0          0   \n",
       "15984        3400        6362          0   ...             0          0   \n",
       "15985        5000           0          0   ...             0          0   \n",
       "15986        9350           0          0   ...             1          0   \n",
       "15987        2800           0          0   ...             0          0   \n",
       "15988           0           0          0   ...             0          0   \n",
       "15989           0           0          0   ...             0          0   \n",
       "15990           0           0          0   ...             1          0   \n",
       "15991           0           0          0   ...             0          0   \n",
       "15992           0           0          0   ...             0          0   \n",
       "15993           0        3490          0   ...             0          1   \n",
       "15994           0           0          0   ...             1          0   \n",
       "15995           0           0          0   ...             0          0   \n",
       "15996           0       32440          0   ...             0          0   \n",
       "15997           0       46200          0   ...             0          0   \n",
       "15998           0       13550          0   ...             0          0   \n",
       "15999           0        1820          0   ...             0          0   \n",
       "16000           0           0          0   ...             0          0   \n",
       "16001           0           0          0   ...             1          0   \n",
       "16002           0           0          0   ...             0          0   \n",
       "16003           0           0          0   ...             0          0   \n",
       "16004           0           0          0   ...             0          0   \n",
       "16005           0           0          0   ...             0          0   \n",
       "16006           0           0          0   ...             0          0   \n",
       "16007           0           0          0   ...             1          0   \n",
       "16008           0           0          0   ...             0          0   \n",
       "16009           0           0          0   ...             0          0   \n",
       "16010           0           0          0   ...             0          0   \n",
       "16011           0           0          0   ...             0          0   \n",
       "\n",
       "       LandUse_10  OwnerType_C  OwnerType_M  OwnerType_O  OwnerType_P  \\\n",
       "0               0            0            0            0            1   \n",
       "1               0            0            0            0            0   \n",
       "2               0            1            0            0            0   \n",
       "3               0            1            0            0            0   \n",
       "4               0            1            0            0            0   \n",
       "5               0            0            0            0            1   \n",
       "6               0            0            0            0            1   \n",
       "7               0            0            0            0            1   \n",
       "8               0            0            0            0            1   \n",
       "9               0            0            0            0            1   \n",
       "10              0            0            0            0            0   \n",
       "11              0            0            0            0            1   \n",
       "12              0            0            0            0            1   \n",
       "13              0            0            0            0            1   \n",
       "14              0            0            0            0            1   \n",
       "15              0            0            0            0            1   \n",
       "16              0            0            0            0            1   \n",
       "17              0            0            0            0            1   \n",
       "18              0            0            0            0            0   \n",
       "19              0            0            0            0            1   \n",
       "20              0            0            0            0            1   \n",
       "21              0            0            0            0            1   \n",
       "22              0            0            0            0            1   \n",
       "23              0            0            0            0            1   \n",
       "24              0            1            0            0            0   \n",
       "25              0            0            0            0            0   \n",
       "26              0            0            0            0            0   \n",
       "27              0            0            0            0            0   \n",
       "28              0            0            0            1            0   \n",
       "29              0            0            0            1            0   \n",
       "...           ...          ...          ...          ...          ...   \n",
       "15982           0            0            0            0            1   \n",
       "15983           0            0            0            0            1   \n",
       "15984           0            0            0            0            1   \n",
       "15985           0            0            0            0            1   \n",
       "15986           0            0            0            0            1   \n",
       "15987           0            0            0            0            1   \n",
       "15988           0            0            0            0            0   \n",
       "15989           0            0            0            0            1   \n",
       "15990           0            0            0            0            1   \n",
       "15991           0            0            0            0            1   \n",
       "15992           0            0            0            0            1   \n",
       "15993           0            0            0            0            1   \n",
       "15994           0            0            0            0            1   \n",
       "15995           0            0            0            0            1   \n",
       "15996           1            0            0            0            1   \n",
       "15997           1            0            0            0            1   \n",
       "15998           0            0            0            0            1   \n",
       "15999           0            0            0            0            1   \n",
       "16000           0            0            0            0            1   \n",
       "16001           0            0            0            0            1   \n",
       "16002           0            0            0            0            1   \n",
       "16003           0            0            0            0            1   \n",
       "16004           0            0            0            0            1   \n",
       "16005           0            0            0            0            1   \n",
       "16006           0            0            0            0            1   \n",
       "16007           0            0            0            0            0   \n",
       "16008           0            0            0            0            1   \n",
       "16009           0            0            0            0            1   \n",
       "16010           0            0            0            0            1   \n",
       "16011           0            0            0            0            1   \n",
       "\n",
       "       OwnerType_X         Zone  LandUse  \n",
       "0                0  L Manhattan        8  \n",
       "1                1  L Manhattan        8  \n",
       "2                0  L Manhattan        7  \n",
       "3                0  L Manhattan        7  \n",
       "4                0  L Manhattan        9  \n",
       "5                0  L Manhattan        4  \n",
       "6                0  L Manhattan        4  \n",
       "7                0  L Manhattan        4  \n",
       "8                0  L Manhattan        5  \n",
       "9                0  L Manhattan        5  \n",
       "10               1  L Manhattan        8  \n",
       "11               0  L Manhattan        5  \n",
       "12               0  L Manhattan        5  \n",
       "13               0  L Manhattan        5  \n",
       "14               0  L Manhattan        5  \n",
       "15               0  L Manhattan        5  \n",
       "16               0  L Manhattan        5  \n",
       "17               0  L Manhattan        5  \n",
       "18               1  L Manhattan        8  \n",
       "19               0  L Manhattan        5  \n",
       "20               0  L Manhattan        5  \n",
       "21               0  L Manhattan        5  \n",
       "22               0  L Manhattan        3  \n",
       "23               0  L Manhattan        4  \n",
       "24               0  L Manhattan        5  \n",
       "25               1  L Manhattan        8  \n",
       "26               1  L Manhattan        3  \n",
       "27               1  L Manhattan        3  \n",
       "28               0  L Manhattan        8  \n",
       "29               0  L Manhattan        4  \n",
       "...            ...          ...      ...  \n",
       "15982            0         WAHI        4  \n",
       "15983            0         WAHI        5  \n",
       "15984            0         WAHI        7  \n",
       "15985            0         WAHI        5  \n",
       "15986            0         WAHI        8  \n",
       "15987            0         WAHI        4  \n",
       "15988            1         WAHI        1  \n",
       "15989            0         WAHI        3  \n",
       "15990            0         WAHI        8  \n",
       "15991            0         WAHI        3  \n",
       "15992            0         WAHI        2  \n",
       "15993            0         WAHI        9  \n",
       "15994            0         WAHI        8  \n",
       "15995            0         WAHI        6  \n",
       "15996            0         WAHI       10  \n",
       "15997            0         WAHI       10  \n",
       "15998            0         WAHI        6  \n",
       "15999            0         WAHI        7  \n",
       "16000            0         WAHI        3  \n",
       "16001            0         WAHI        8  \n",
       "16002            0         WAHI        3  \n",
       "16003            0         WAHI        2  \n",
       "16004            0         WAHI        2  \n",
       "16005            0         WAHI        2  \n",
       "16006            0         WAHI        3  \n",
       "16007            1         WAHI        8  \n",
       "16008            0         WAHI        3  \n",
       "16009            0         WAHI        1  \n",
       "16010            0         WAHI        2  \n",
       "16011            0         WAHI        3  \n",
       "\n",
       "[16012 rows x 47 columns]"
      ]
     },
     "execution_count": 14,
     "metadata": {},
     "output_type": "execute_result"
    }
   ],
   "source": [
    "# read pd\n",
    "df = pd.read_csv('MN_selected.csv')\n",
    "df"
   ]
  },
  {
   "cell_type": "code",
   "execution_count": 15,
   "metadata": {},
   "outputs": [],
   "source": [
    "df2 = pd.read_csv('MN with additional features.csv')"
   ]
  },
  {
   "cell_type": "markdown",
   "metadata": {},
   "source": [
    "## Currently we are underfitting land with low values."
   ]
  },
  {
   "cell_type": "code",
   "execution_count": 61,
   "metadata": {},
   "outputs": [],
   "source": [
    "# lv = df2[np.log(df2['AssessTot'])<10]\n",
    "# lv"
   ]
  },
  {
   "cell_type": "code",
   "execution_count": 30,
   "metadata": {},
   "outputs": [],
   "source": [
    "# lv.groupby('Zone').count()"
   ]
  },
  {
   "cell_type": "code",
   "execution_count": 36,
   "metadata": {
    "scrolled": true
   },
   "outputs": [
    {
     "name": "stdout",
     "output_type": "stream",
     "text": [
      "(0, 'id')\n",
      "(1, 'AssessTot')\n",
      "(2, 'LotFront')\n",
      "(3, 'NumFloors')\n",
      "(4, 'ComArea')\n",
      "(5, 'ResArea')\n",
      "(6, 'OfficeArea')\n",
      "(7, 'RetailArea')\n",
      "(8, 'GarageArea')\n",
      "(9, 'StrgeArea')\n",
      "(10, 'FactryArea')\n",
      "(11, 'OtherArea')\n",
      "(12, 'YearBuilt')\n",
      "(13, 'CommFAR')\n",
      "(14, 'PopDensity')\n",
      "(15, 'MedIncome')\n",
      "(16, 'NumofHouses')\n",
      "(17, 'EduRate')\n",
      "(18, 'UnemployedRate')\n",
      "(19, 'IfAlter')\n",
      "(20, 'Central Harlem')\n",
      "(21, 'Chelsea & Clinton')\n",
      "(22, 'East Harlem')\n",
      "(23, 'Gramercy Park and Murray Hill')\n",
      "(24, 'GV & Soho')\n",
      "(25, 'L Manhattan')\n",
      "(26, 'L. East Side')\n",
      "(27, 'U Eest Side')\n",
      "(28, 'U West Side')\n",
      "(29, 'WAHI')\n",
      "(30, 'LandUse_1')\n",
      "(31, 'LandUse_2')\n",
      "(32, 'LandUse_3')\n",
      "(33, 'LandUse_4')\n",
      "(34, 'LandUse_5')\n",
      "(35, 'LandUse_6')\n",
      "(36, 'LandUse_7')\n",
      "(37, 'LandUse_8')\n",
      "(38, 'LandUse_9')\n",
      "(39, 'LandUse_10')\n",
      "(40, 'OwnerType_C')\n",
      "(41, 'OwnerType_M')\n",
      "(42, 'OwnerType_O')\n",
      "(43, 'OwnerType_P')\n",
      "(44, 'OwnerType_X')\n",
      "(45, 'Zone')\n",
      "(46, 'LandUse')\n"
     ]
    }
   ],
   "source": [
    "for i in range(len(df.columns)):\n",
    "    print (i,df.columns[i])"
   ]
  },
  {
   "cell_type": "code",
   "execution_count": 55,
   "metadata": {},
   "outputs": [],
   "source": [
    "# convert to np\n",
    "data = df.as_matrix()"
   ]
  },
  {
   "cell_type": "code",
   "execution_count": 69,
   "metadata": {},
   "outputs": [],
   "source": [
    "# # plotting\n",
    "# plt.plot(data[:,2],data[:,1],'.')\n",
    "# plt.xlabel('LotArea')\n",
    "# plt.ylabel('AssesTot')\n",
    "# plt.show()"
   ]
  },
  {
   "cell_type": "code",
   "execution_count": 56,
   "metadata": {},
   "outputs": [],
   "source": [
    "# log scale AssessTot\n",
    "data[:,1] = np.log(1.0*np.hstack(data[:,1]))"
   ]
  },
  {
   "cell_type": "code",
   "execution_count": 18,
   "metadata": {},
   "outputs": [],
   "source": [
    "def outliers_iqr(ys):\n",
    "    quartile_1, quartile_3 = np.percentile(ys, [25, 75])\n",
    "    iqr = quartile_3 - quartile_1\n",
    "    lower_bound = quartile_1 - (iqr * 10)\n",
    "    upper_bound = quartile_3 + (iqr * 10)\n",
    "    return np.where((ys > upper_bound) | (ys < lower_bound))"
   ]
  },
  {
   "cell_type": "code",
   "execution_count": 57,
   "metadata": {},
   "outputs": [],
   "source": [
    "# remove outliers\n",
    "index = np.zeros(len(data))\n",
    "for i in range(1,5):\n",
    "    index[outliers_iqr(data[:,i])] = 1\n",
    "data = data[np.where(index==0)]"
   ]
  },
  {
   "cell_type": "code",
   "execution_count": 99,
   "metadata": {},
   "outputs": [
    {
     "data": {
      "image/png": "[encoded data removed]",
      "text/plain": [
       "<matplotlib.figure.Figure at 0xf62b7f0>"
      ]
     },
     "metadata": {},
     "output_type": "display_data"
    }
   ],
   "source": [
    "# plotting\n",
    "plt.plot(data[:,2],data[:,1],'.')\n",
    "plt.xlabel('LotFront')\n",
    "plt.ylabel('LogAssessTot')\n",
    "plt.show()"
   ]
  },
  {
   "cell_type": "code",
   "execution_count": 44,
   "metadata": {},
   "outputs": [],
   "source": [
    "# import seaborn as sns\n",
    "# # sns.set(style=\"ticks\")\n",
    "# plt.figure(figsize=(15,6))\n",
    "# plt.xlabel('Zone')\n",
    "# plt.ylabel('AssessTot')\n",
    "# sns.boxplot(y=np.hstack(data[:,1]), x=np.hstack(data[:,46]),width=0.8,order=[u'Central Harlem', u'Chelsea & Clinton', u'East Harlem', u'G Park & M Hill', u'GV & Soho', u'L Manhattan',u'L. East Side', u'U Eest Side', u'U West Side', u'WAHI'])\n",
    "# # sns.boxplot(y=np.hstack(data[:,1]), x=np.hstack(data[:,33]),width=0.8)\n",
    "# # plt.legend()\n",
    "# plt.show()"
   ]
  },
  {
   "cell_type": "code",
   "execution_count": 66,
   "metadata": {},
   "outputs": [],
   "source": [
    "# plt.figure(figsize=(15,6))\n",
    "# plt.xlabel('LandUse')\n",
    "# plt.ylabel('AssessTot')\n",
    "# sns.boxplot(y=np.hstack(data[:,1]), x=np.hstack(data[:,34]),width=0.8)\n",
    "# plt.show()"
   ]
  },
  {
   "cell_type": "code",
   "execution_count": 12,
   "metadata": {},
   "outputs": [],
   "source": [
    "# # scaling\n",
    "# data = data[:,1:33].astype(float)\n",
    "# temp = data[:,:6]\n",
    "# temp = (temp - temp.min(axis = 0))/(temp.max(axis=0)-temp.min(axis = 0))\n",
    "# data = np.hstack((temp,data[:,6:]))\n",
    "# # adding offset\n",
    "# data = np.hstack((data,np.ones((len(data),1))))"
   ]
  },
  {
   "cell_type": "code",
   "execution_count": 51,
   "metadata": {},
   "outputs": [],
   "source": [
    "# # scaling\n",
    "# data = data[:,1:33].astype(float)\n",
    "# temp = data[:,1:6]\n",
    "# temp = (temp - temp.min(axis = 0))/(temp.max(axis=0)-temp.min(axis = 0))\n",
    "# # scaler = StandardScaler()\n",
    "# # scaler.fit(np.reshape(data[:,0],(len(data[:,0]),1)))\n",
    "# # temp = scaler.transform(temp)\n",
    "# data = np.hstack((np.column_stack((data[:,0],temp)),data[:,6:]))\n",
    "# # adding offset\n",
    "# data = np.hstack((data,np.ones((len(data),1))))"
   ]
  },
  {
   "cell_type": "code",
   "execution_count": 58,
   "metadata": {},
   "outputs": [
    {
     "data": {
      "text/plain": [
       "array([79000L, 1176100L, 78589L, 71305L, 78896L, 73150L, 65307L, 79000L], dtype=object)"
      ]
     },
     "execution_count": 58,
     "metadata": {},
     "output_type": "execute_result"
    }
   ],
   "source": [
    "np.max(data[:,4:12],axis=0)"
   ]
  },
  {
   "cell_type": "code",
   "execution_count": 59,
   "metadata": {},
   "outputs": [],
   "source": [
    "# scaling\n",
    "data = data[:,1:45].astype(float)\n",
    "temp = data[:,1:18]\n",
    "temp = (temp - temp.min(axis = 0))/(temp.max(axis=0)-temp.min(axis = 0))\n",
    "# scaler = StandardScaler()\n",
    "# scaler.fit(np.reshape(data[:,0],(len(data[:,0]),1)))\n",
    "# temp = scaler.transform(temp)\n",
    "data = np.hstack((np.column_stack((data[:,0],temp)),data[:,18:]))\n",
    "# adding offset\n",
    "data = np.hstack((data,np.ones((len(data),1))))"
   ]
  },
  {
   "cell_type": "code",
   "execution_count": 60,
   "metadata": {},
   "outputs": [
    {
     "data": {
      "text/plain": [
       "array([  1.31901902e+01,   4.90990446e-02,   1.92307692e-01,\n",
       "         3.81265823e-02,   3.80324802e-03,   1.89721208e-02,\n",
       "         2.13309025e-02,   0.00000000e+00,   0.00000000e+00,\n",
       "         0.00000000e+00,   0.00000000e+00,   5.37848606e-01,\n",
       "         1.00000000e+00,   0.00000000e+00,   4.14539687e-01,\n",
       "         0.00000000e+00,   9.88304094e-01,   2.91666667e-01,\n",
       "         0.00000000e+00,   0.00000000e+00,   0.00000000e+00,\n",
       "         0.00000000e+00,   0.00000000e+00,   0.00000000e+00,\n",
       "         1.00000000e+00,   0.00000000e+00,   0.00000000e+00,\n",
       "         0.00000000e+00,   0.00000000e+00,   0.00000000e+00,\n",
       "         0.00000000e+00,   0.00000000e+00,   1.00000000e+00,\n",
       "         0.00000000e+00,   0.00000000e+00,   0.00000000e+00,\n",
       "         0.00000000e+00,   0.00000000e+00,   0.00000000e+00,\n",
       "         0.00000000e+00,   0.00000000e+00,   0.00000000e+00,\n",
       "         1.00000000e+00,   0.00000000e+00,   1.00000000e+00])"
      ]
     },
     "execution_count": 60,
     "metadata": {},
     "output_type": "execute_result"
    }
   ],
   "source": [
    "data[2,:]"
   ]
  },
  {
   "cell_type": "code",
   "execution_count": 61,
   "metadata": {},
   "outputs": [],
   "source": [
    "# partitioning, randomly select 80% samples as traininig set, 20% as test set\n",
    "n = int(len(data)*0.8)\n",
    "trainset = random.sample(range(len(data)),n)\n",
    "testset = [i for i in range(len(data)) if i not in trainset]\n",
    "X = data[trainset,1:]\n",
    "Y = data[trainset,0]\n",
    "X_test = data[testset,1:]\n",
    "Y_test = data[testset,0]"
   ]
  },
  {
   "cell_type": "code",
   "execution_count": 22,
   "metadata": {},
   "outputs": [],
   "source": [
    "# coefficient plot\n",
    "def coef_plot(w):\n",
    "    plt.bar(range(len(w)),w)\n",
    "    plt.xlabel('predictors')\n",
    "    plt.ylabel('coefficients')\n",
    "    plt.title('regression results - coefficients')\n",
    "    plt.show()"
   ]
  },
  {
   "cell_type": "code",
   "execution_count": 23,
   "metadata": {},
   "outputs": [],
   "source": [
    "# true value, predicted value\n",
    "def pred_value_plot(Y,Y_pred):\n",
    "    plt.figure(figsize=(5,5))\n",
    "    plt.plot(np.exp(Y),np.exp(Y_pred),'.')\n",
    "    plt.plot(np.exp(Y),np.exp(Y))\n",
    "#     plt.plot(Y,Y_pred,'.')\n",
    "#     plt.plot(Y,Y)\n",
    "    plt.xscale('log')\n",
    "    plt.yscale('log')\n",
    "    plt.xlabel('true value')\n",
    "    plt.ylabel('predicted value')\n",
    "    plt.title('predicted value vs true value of test set')\n",
    "    plt.show()"
   ]
  },
  {
   "cell_type": "code",
   "execution_count": 25,
   "metadata": {},
   "outputs": [],
   "source": [
    "# residual plot\n",
    "def residual_plot(Y,Y_pred):\n",
    "    plt.plot(Y_pred,Y-Y_pred,'.')\n",
    "    plt.plot([8,20],[0,0])\n",
    "    plt.xlabel('fitted value')\n",
    "    plt.ylabel('residual')\n",
    "    plt.show()"
   ]
  },
  {
   "cell_type": "markdown",
   "metadata": {},
   "source": [
    "## L2 loss, no reg, package"
   ]
  },
  {
   "cell_type": "code",
   "execution_count": 105,
   "metadata": {},
   "outputs": [
    {
     "name": "stdout",
     "output_type": "stream",
     "text": [
      "('coefficients:', array([ 5.3194,  3.5117,  1.2949, -0.8107, -0.5166,  2.6621, -1.081 ,\n",
      "       -0.5394, -0.6782,  0.0532,  0.9612,  0.3386,  0.1664,  0.9975,\n",
      "       -0.1579,  0.3634,  0.5426,  0.2711,  0.1124,  0.9958,  0.2338,\n",
      "        1.0011,  0.9431,  0.6158,  0.9335,  1.2738,  1.0099,  0.4104,\n",
      "       -0.5793,  0.3833,  1.1688,  0.8225,  1.1257,  0.9371,  0.7944,\n",
      "        1.0191,  0.6521,  1.2057,  1.9362,  0.2916,  1.7504,  1.7358,\n",
      "        1.8153,  7.5294]))\n",
      "mean_squared_error train: 0.6421\n",
      "mean_squared_error test: 0.6455\n"
     ]
    }
   ],
   "source": [
    "# l2 loss, no regularizor, python linear regression package\n",
    "# create linear regression object\n",
    "regr = linear_model.LinearRegression(fit_intercept=False)\n",
    "# train the model\n",
    "regr.fit(X,Y)\n",
    "# test the model\n",
    "Y_pred = regr.predict(X)\n",
    "Y_test_pred = regr.predict(X_test)\n",
    "# the coefficients\n",
    "np.set_printoptions(precision=4, suppress=True)\n",
    "print('coefficients:', regr.coef_)\n",
    "# mean squared error\n",
    "print('mean_squared_error train: %.4f' % mean_squared_error(Y,Y_pred))\n",
    "print('mean_squared_error test: %.4f' % mean_squared_error(Y_test,Y_test_pred))"
   ]
  },
  {
   "cell_type": "code",
   "execution_count": 143,
   "metadata": {},
   "outputs": [
    {
     "data": {
      "text/plain": [
       "1.8221188003905089"
      ]
     },
     "execution_count": 143,
     "metadata": {},
     "output_type": "execute_result"
    }
   ],
   "source": [
    "np.exp(0.6)"
   ]
  },
  {
   "cell_type": "code",
   "execution_count": 106,
   "metadata": {},
   "outputs": [
    {
     "data": {
      "image/png": "[encoded data removed]",
      "text/plain": [
       "<matplotlib.figure.Figure at 0xf62b2e8>"
      ]
     },
     "metadata": {},
     "output_type": "display_data"
    }
   ],
   "source": [
    "coef_plot(regr.coef_)"
   ]
  },
  {
   "cell_type": "code",
   "execution_count": 145,
   "metadata": {
    "scrolled": true
   },
   "outputs": [
    {
     "data": {
      "image/png": "[encoded data removed]",
      "text/plain": [
       "<matplotlib.figure.Figure at 0x1b797cc0>"
      ]
     },
     "metadata": {},
     "output_type": "display_data"
    }
   ],
   "source": [
    "pred_value_plot(Y_test,Y_test_pred)"
   ]
  },
  {
   "cell_type": "code",
   "execution_count": 108,
   "metadata": {},
   "outputs": [
    {
     "data": {
      "image/png": "[encoded data removed]",
      "text/plain": [
       "<matplotlib.figure.Figure at 0x100d9828>"
      ]
     },
     "metadata": {},
     "output_type": "display_data"
    }
   ],
   "source": [
    "plt.hist(Y_test,bins=20)\n",
    "plt.xlabel('true value')\n",
    "plt.show()"
   ]
  },
  {
   "cell_type": "code",
   "execution_count": 109,
   "metadata": {},
   "outputs": [
    {
     "data": {
      "image/png": "[encoded data removed]",
      "text/plain": [
       "<matplotlib.figure.Figure at 0x1aed6128>"
      ]
     },
     "metadata": {},
     "output_type": "display_data"
    }
   ],
   "source": [
    "plt.hist(Y_test_pred,bins=20)\n",
    "plt.xlabel('predicted value')\n",
    "plt.show()"
   ]
  },
  {
   "cell_type": "markdown",
   "metadata": {},
   "source": [
    "We have a lot of predicted values between 12-14 because we have three categorical transferred dummis."
   ]
  },
  {
   "cell_type": "code",
   "execution_count": 148,
   "metadata": {},
   "outputs": [
    {
     "data": {
      "image/png": "[encoded data removed]",
      "text/plain": [
       "<matplotlib.figure.Figure at 0x17ec95c0>"
      ]
     },
     "metadata": {},
     "output_type": "display_data"
    }
   ],
   "source": [
    "residual_plot(Y_test,Y_test_pred)"
   ]
  },
  {
   "cell_type": "markdown",
   "metadata": {},
   "source": [
    "## L2 loss, no reg"
   ]
  },
  {
   "cell_type": "code",
   "execution_count": 111,
   "metadata": {},
   "outputs": [
    {
     "name": "stdout",
     "output_type": "stream",
     "text": [
      "mean_squared_error test: 0.6455\n"
     ]
    }
   ],
   "source": [
    "# l2 loss, no regularizor, solve to the end\n",
    "w = np.dot(np.linalg.pinv(X),Y)\n",
    "Y_test_pred = np.dot(X_test,w)\n",
    "print('mean_squared_error test: %.4f' % mean_squared_error(Y_test,Y_test_pred))"
   ]
  },
  {
   "cell_type": "code",
   "execution_count": 112,
   "metadata": {},
   "outputs": [
    {
     "data": {
      "image/png": "[encoded data removed]",
      "text/plain": [
       "<matplotlib.figure.Figure at 0x1b4439b0>"
      ]
     },
     "metadata": {},
     "output_type": "display_data"
    }
   ],
   "source": [
    "coef_plot(w)"
   ]
  },
  {
   "cell_type": "code",
   "execution_count": 113,
   "metadata": {},
   "outputs": [
    {
     "data": {
      "image/png": "[encoded data removed]",
      "text/plain": [
       "<matplotlib.figure.Figure at 0x1b557748>"
      ]
     },
     "metadata": {},
     "output_type": "display_data"
    }
   ],
   "source": [
    "pred_value_plot(Y_test,Y_test_pred)"
   ]
  },
  {
   "cell_type": "code",
   "execution_count": 114,
   "metadata": {},
   "outputs": [
    {
     "data": {
      "image/png": "[encoded data removed]",
      "text/plain": [
       "<matplotlib.figure.Figure at 0x1b867ef0>"
      ]
     },
     "metadata": {},
     "output_type": "display_data"
    }
   ],
   "source": [
    "residual_plot(Y_test,Y_test_pred)"
   ]
  },
  {
   "cell_type": "markdown",
   "metadata": {},
   "source": [
    "## L2 loss, lasso reg"
   ]
  },
  {
   "cell_type": "code",
   "execution_count": 115,
   "metadata": {},
   "outputs": [
    {
     "data": {
      "text/plain": [
       "array([ 0.6478,  0.6522,  0.6703,  0.694 ])"
      ]
     },
     "execution_count": 115,
     "metadata": {},
     "output_type": "execute_result"
    }
   ],
   "source": [
    "# n-th fold cross validation\n",
    "K = 10\n",
    "kf = KFold(n_splits = K)\n",
    "alpha_list = [0.0005,0.001,0.005,0.01]\n",
    "error = np.zeros(len(alpha_list))\n",
    "for i in range(len(alpha_list)):\n",
    "    alpha = alpha_list[i]\n",
    "    lasso = linear_model.Lasso(alpha=alpha, fit_intercept=False, normalize=False, max_iter=1000)\n",
    "    for train_index, test_index in kf.split(X):\n",
    "        Xv_train,Xv_test = X[train_index],X[test_index]\n",
    "        Yv_train,Yv_test = Y[train_index],Y[test_index]\n",
    "        lasso.fit(Xv_train,Yv_train)\n",
    "        error[i] += mean_squared_error(Yv_test,lasso.predict(Xv_test))\n",
    "error = error/(K*1.0)\n",
    "error\n"
   ]
  },
  {
   "cell_type": "code",
   "execution_count": 173,
   "metadata": {},
   "outputs": [
    {
     "data": {
      "text/plain": [
       "0.64857223065984826"
      ]
     },
     "execution_count": 173,
     "metadata": {},
     "output_type": "execute_result"
    }
   ],
   "source": [
    "lasso = linear_model.Lasso(alpha=0.0005, fit_intercept=False, normalize=False, max_iter=1000)\n",
    "# lasso = linear_model.Lasso(alpha=alpha_list[np.argmin(error)], fit_intercept=False, normalize=False, max_iter=5000)\n",
    "lasso.fit(X,Y)\n",
    "Y_test_pred = lasso.predict(X_test)\n",
    "mean_squared_error(Y_test,Y_test_pred)"
   ]
  },
  {
   "cell_type": "code",
   "execution_count": 175,
   "metadata": {},
   "outputs": [
    {
     "data": {
      "text/plain": [
       "array([ 5.8722,  6.7494,  5.9853,  6.7577,  6.7021,  6.3623,  6.6913,\n",
       "        7.0405,  6.7642,  6.1785])"
      ]
     },
     "execution_count": 175,
     "metadata": {},
     "output_type": "execute_result"
    }
   ],
   "source": [
    "lasso.coef_[18:28]"
   ]
  },
  {
   "cell_type": "code",
   "execution_count": 174,
   "metadata": {},
   "outputs": [
    {
     "data": {
      "image/png": "[encoded data removed]",
      "text/plain": [
       "<matplotlib.figure.Figure at 0xbdbf128>"
      ]
     },
     "metadata": {},
     "output_type": "display_data"
    }
   ],
   "source": [
    "coef_plot(lasso.coef_)"
   ]
  },
  {
   "cell_type": "code",
   "execution_count": 169,
   "metadata": {},
   "outputs": [
    {
     "data": {
      "image/png": "[encoded data removed]",
      "text/plain": [
       "<matplotlib.figure.Figure at 0xf557748>"
      ]
     },
     "metadata": {},
     "output_type": "display_data"
    }
   ],
   "source": [
    "pred_value_plot(Y_test,Y_test_pred)"
   ]
  },
  {
   "cell_type": "code",
   "execution_count": 170,
   "metadata": {},
   "outputs": [
    {
     "data": {
      "image/png": "[encoded data removed]",
      "text/plain": [
       "<matplotlib.figure.Figure at 0xf4e3ef0>"
      ]
     },
     "metadata": {},
     "output_type": "display_data"
    }
   ],
   "source": [
    "residual_plot(Y_test,Y_test_pred)"
   ]
  },
  {
   "cell_type": "markdown",
   "metadata": {},
   "source": [
    "## L2 loss, smooth reg"
   ]
  },
  {
   "cell_type": "code",
   "execution_count": 184,
   "metadata": {},
   "outputs": [],
   "source": [
    "# regression with regularization\n",
    "# objective function of l2 loss smooth regularizor\n",
    "def l2_smooth(w,X,Y,D,alpha=1.0):\n",
    "     return mean_squared_error(Y,np.dot(X,w)) + alpha*np.square(np.linalg.norm(np.dot(D,w)))\n",
    "# used to generate the D matrix in smooth regularizor \n",
    "def Dmatrix(n):\n",
    "    r = 0\n",
    "    t = np.zeros((n*(n-1)/2,n))\n",
    "    for i in range(n-1):\n",
    "        for j in range(i+1,n):\n",
    "            t[r,i] = 1\n",
    "            t[r,j] = -1\n",
    "            r += 1\n",
    "    return t"
   ]
  },
  {
   "cell_type": "code",
   "execution_count": 185,
   "metadata": {},
   "outputs": [],
   "source": [
    "# stepsize for proximal gradient\n",
    "U,s,V = np.linalg.svd(X)\n",
    "step = 1.0/(2.0*np.square(s[0]))\n",
    "# initial w\n",
    "w0 = np.zeros(np.shape(X)[1])\n",
    "# D matrix for smooth regularizor\n",
    "D = np.zeros((100,np.shape(X)[1]))\n",
    "D[0:45,18:28] = Dmatrix(10)\n",
    "D[45:90,28:38] = Dmatrix(10)\n",
    "D[90:100,38:43] = Dmatrix(5)"
   ]
  },
  {
   "cell_type": "code",
   "execution_count": 186,
   "metadata": {},
   "outputs": [
    {
     "data": {
      "text/plain": [
       "(44L,)"
      ]
     },
     "execution_count": 186,
     "metadata": {},
     "output_type": "execute_result"
    }
   ],
   "source": [
    "np.shape(w0)"
   ]
  },
  {
   "cell_type": "code",
   "execution_count": 189,
   "metadata": {},
   "outputs": [],
   "source": [
    "# smooth proximator\n",
    "def prox_smooth(stepsize,alpha,D,z):\n",
    "    return np.dot(np.linalg.inv(2.0*stepsize*alpha*np.dot(D.T,D) + np.eye(np.shape(D)[1])),z)\n",
    "# l2_smooth proximal gradient method\n",
    "def proxi_grad_l2_smooth(X,Y,D,alpha,maxiters=1000,stepsize=step,w=w0):\n",
    "    obj = []\n",
    "    for i in range(maxiters):\n",
    "        g = 2.0*np.dot(X.T,np.dot(X,w)-Y)\n",
    "        z = w - stepsize*g\n",
    "        w = prox_smooth(stepsize,alpha,D,z)\n",
    "        obj.append(l2_smooth(w,X,Y,D,alpha))\n",
    "    return obj,w"
   ]
  },
  {
   "cell_type": "code",
   "execution_count": 193,
   "metadata": {},
   "outputs": [
    {
     "data": {
      "text/plain": [
       "array([ 0.6748,  0.6748,  0.6749,  0.675 ])"
      ]
     },
     "execution_count": 193,
     "metadata": {},
     "output_type": "execute_result"
    }
   ],
   "source": [
    "# n-th fold cross validation\n",
    "K = 10\n",
    "kf = KFold(n_splits = K)\n",
    "alpha_list = [0.01,0.1,0.5,1.0]\n",
    "error = np.zeros(len(alpha_list))\n",
    "for i in range(len(alpha_list)):\n",
    "    alpha = alpha_list[i]\n",
    "    for train_index, test_index in kf.split(X):\n",
    "        Xv_train,Xv_test = X[train_index],X[test_index]\n",
    "        Yv_train,Yv_test = Y[train_index],Y[test_index]\n",
    "        obj,w = proxi_grad_l2_smooth(Xv_train,Yv_train,D,alpha)\n",
    "        error[i] += mean_squared_error(Yv_test,np.dot(Xv_test,w))\n",
    "error = error/(K*1.0)\n",
    "error"
   ]
  },
  {
   "cell_type": "code",
   "execution_count": 194,
   "metadata": {},
   "outputs": [
    {
     "data": {
      "text/plain": [
       "0"
      ]
     },
     "execution_count": 194,
     "metadata": {},
     "output_type": "execute_result"
    }
   ],
   "source": [
    "np.argmin(error)"
   ]
  },
  {
   "cell_type": "code",
   "execution_count": 224,
   "metadata": {},
   "outputs": [
    {
     "name": "stdout",
     "output_type": "stream",
     "text": [
      "mean_squared_error test: 0.6731\n"
     ]
    }
   ],
   "source": [
    "# obj,w = proxi_grad_l2_smooth(X,Y,D,alpha_list[np.argmin(error)])\n",
    "obj,w = proxi_grad_l2_smooth(X,Y,D,5.0)\n",
    "Y_test_pred = np.dot(X_test,w)\n",
    "print('mean_squared_error test: %.4f' % mean_squared_error(Y_test,Y_test_pred))"
   ]
  },
  {
   "cell_type": "code",
   "execution_count": 225,
   "metadata": {},
   "outputs": [
    {
     "data": {
      "image/png": "[encoded data removed]",
      "text/plain": [
       "<matplotlib.figure.Figure at 0x10b780f0>"
      ]
     },
     "metadata": {},
     "output_type": "display_data"
    }
   ],
   "source": [
    "# smoothed coefficients for zones \n",
    "plt.bar(range(18,28),w[18:28])\n",
    "plt.xlabel('Zone')\n",
    "plt.ylabel('w')\n",
    "plt.show()"
   ]
  },
  {
   "cell_type": "code",
   "execution_count": 214,
   "metadata": {},
   "outputs": [
    {
     "data": {
      "image/png": "[encoded data removed]",
      "text/plain": [
       "<matplotlib.figure.Figure at 0x19819048>"
      ]
     },
     "metadata": {},
     "output_type": "display_data"
    }
   ],
   "source": [
    "# original coefficients for zones\n",
    "plt.bar(range(18,28),regr.coef_[18:28])\n",
    "plt.xlabel('Zone')\n",
    "plt.ylabel('w')\n",
    "plt.show()"
   ]
  },
  {
   "cell_type": "markdown",
   "metadata": {},
   "source": [
    "From the plot, classify zone into {0,2}{1,3,4,6,8}{7}{5,9}"
   ]
  },
  {
   "cell_type": "code",
   "execution_count": 226,
   "metadata": {},
   "outputs": [
    {
     "data": {
      "image/png": "[encoded data removed]",
      "text/plain": [
       "<matplotlib.figure.Figure at 0xf4df9e8>"
      ]
     },
     "metadata": {},
     "output_type": "display_data"
    }
   ],
   "source": [
    "# smoothed coefficients for Landuse \n",
    "plt.bar(range(28,38),w[28:38])\n",
    "plt.xlabel('LandUse')\n",
    "plt.ylabel('w')\n",
    "plt.show()"
   ]
  },
  {
   "cell_type": "markdown",
   "metadata": {},
   "source": [
    "From the plot, classify landuse into {0}{1}{2,4,7}{3,5,6,8,9}"
   ]
  },
  {
   "cell_type": "code",
   "execution_count": 216,
   "metadata": {},
   "outputs": [
    {
     "data": {
      "image/png": "[encoded data removed]",
      "text/plain": [
       "<matplotlib.figure.Figure at 0x1b052358>"
      ]
     },
     "metadata": {},
     "output_type": "display_data"
    }
   ],
   "source": [
    "# original coefficients for LandUse\n",
    "plt.bar(range(28,38),regr.coef_[28:38])\n",
    "plt.xlabel('LandUse')\n",
    "plt.ylabel('w')\n",
    "plt.show()"
   ]
  },
  {
   "cell_type": "code",
   "execution_count": 227,
   "metadata": {},
   "outputs": [
    {
     "data": {
      "image/png": "[encoded data removed]",
      "text/plain": [
       "<matplotlib.figure.Figure at 0xf5542e8>"
      ]
     },
     "metadata": {},
     "output_type": "display_data"
    }
   ],
   "source": [
    "plt.bar(range(38,43),w[38:43])\n",
    "plt.xlabel('OwnerType')\n",
    "plt.ylabel('w')\n",
    "plt.show()"
   ]
  },
  {
   "cell_type": "code",
   "execution_count": 220,
   "metadata": {},
   "outputs": [
    {
     "data": {
      "image/png": "[encoded data removed]",
      "text/plain": [
       "<matplotlib.figure.Figure at 0x101317f0>"
      ]
     },
     "metadata": {},
     "output_type": "display_data"
    }
   ],
   "source": [
    "plt.bar(range(38,43),regr.coef_[38:43])\n",
    "plt.xlabel('OwnerType')\n",
    "plt.ylabel('w')\n",
    "plt.show()"
   ]
  },
  {
   "cell_type": "code",
   "execution_count": 67,
   "metadata": {},
   "outputs": [
    {
     "data": {
      "image/png": "[encoded data removed]",
      "text/plain": [
       "<matplotlib.figure.Figure at 0xdbf6588>"
      ]
     },
     "metadata": {},
     "output_type": "display_data"
    }
   ],
   "source": [
    "coef_plot(w)"
   ]
  },
  {
   "cell_type": "code",
   "execution_count": 68,
   "metadata": {},
   "outputs": [
    {
     "data": {
      "image/png": "[encoded data removed]",
      "text/plain": [
       "<matplotlib.figure.Figure at 0xe985b70>"
      ]
     },
     "metadata": {},
     "output_type": "display_data"
    }
   ],
   "source": [
    "pred_value_plot(Y_test,Y_test_pred)"
   ]
  },
  {
   "cell_type": "code",
   "execution_count": 69,
   "metadata": {},
   "outputs": [
    {
     "data": {
      "image/png": "[encoded data removed]",
      "text/plain": [
       "<matplotlib.figure.Figure at 0xd2feba8>"
      ]
     },
     "metadata": {},
     "output_type": "display_data"
    }
   ],
   "source": [
    "residual_plot(Y_test,Y_test_pred)"
   ]
  },
  {
   "cell_type": "markdown",
   "metadata": {},
   "source": [
    "## l2 loss, ridge reg"
   ]
  },
  {
   "cell_type": "code",
   "execution_count": 149,
   "metadata": {},
   "outputs": [],
   "source": [
    "# stepsize for proximal gradient\n",
    "U,s,V = np.linalg.svd(X)\n",
    "step = 1.0/(2.0*np.square(s[0]))\n",
    "# initial w\n",
    "w0 = np.zeros(np.shape(X)[1])"
   ]
  },
  {
   "cell_type": "code",
   "execution_count": 165,
   "metadata": {},
   "outputs": [],
   "source": [
    "# ridge proximator\n",
    "def prox_ridge(stepsize,alpha,z):\n",
    "    return z/(2.0*stepsize*alpha+1)\n",
    "# l2_ridge objective value\n",
    "def l2_ridge(w,X,Y,alpha):\n",
    "    return mean_squared_error(Y,np.dot(X,w)) + alpha*np.square(np.linalg.norm(w))\n",
    "# l2_ridge proximal gradient method\n",
    "def proxi_grad_l2_ridge(X,Y,alpha,maxiters=1000,stepsize=step,w=w0):\n",
    "    obj = []\n",
    "    for i in range(maxiters):\n",
    "        g = 2.0*np.dot(X.T,np.dot(X,w)-Y)\n",
    "        z = w - stepsize*g\n",
    "        w = prox_ridge(stepsize,alpha,z)\n",
    "        obj.append(l2_ridge(w,X,Y,alpha))\n",
    "    return obj,w"
   ]
  },
  {
   "cell_type": "code",
   "execution_count": 166,
   "metadata": {},
   "outputs": [
    {
     "data": {
      "text/plain": [
       "array([ 0.6748,  0.6748,  0.6749,  0.6757,  0.6775,  0.6804,  0.6845,\n",
       "        0.7078,  0.7472])"
      ]
     },
     "execution_count": 166,
     "metadata": {},
     "output_type": "execute_result"
    }
   ],
   "source": [
    "# n-th fold cross validation\n",
    "K = 10\n",
    "kf = KFold(n_splits = K)\n",
    "alpha_list = [0.001,0.01,0.1,1.0,3.0,6.0,10.0,30.0,60.0]\n",
    "error = np.zeros(len(alpha_list))\n",
    "for i in range(len(alpha_list)):\n",
    "    alpha = alpha_list[i]\n",
    "    for train_index, test_index in kf.split(X):\n",
    "        Xv_train,Xv_test = X[train_index],X[test_index]\n",
    "        Yv_train,Yv_test = Y[train_index],Y[test_index]\n",
    "        obj,w = proxi_grad_l2_ridge(Xv_train,Yv_train,alpha)\n",
    "        error[i] += mean_squared_error(Yv_test,np.dot(Xv_test,w))\n",
    "error = error/(K*1.0)\n",
    "error"
   ]
  },
  {
   "cell_type": "code",
   "execution_count": 164,
   "metadata": {},
   "outputs": [
    {
     "name": "stdout",
     "output_type": "stream",
     "text": [
      "mean_squared_error test: 0.6719\n"
     ]
    }
   ],
   "source": [
    "obj,w = proxi_grad_l2_ridge(X,Y,alpha_list[np.argmin(error)],maxiters=1000)\n",
    "Y_test_pred = np.dot(X_test,w)\n",
    "print('mean_squared_error test: %.4f' % mean_squared_error(Y_test,Y_test_pred))"
   ]
  },
  {
   "cell_type": "code",
   "execution_count": 123,
   "metadata": {},
   "outputs": [
    {
     "data": {
      "image/png": "[encoded data removed]",
      "text/plain": [
       "<matplotlib.figure.Figure at 0x1b8512e8>"
      ]
     },
     "metadata": {},
     "output_type": "display_data"
    }
   ],
   "source": [
    "plt.plot(range(500),obj)\n",
    "plt.show()"
   ]
  },
  {
   "cell_type": "code",
   "execution_count": 124,
   "metadata": {},
   "outputs": [
    {
     "data": {
      "image/png": "[encoded data removed]",
      "text/plain": [
       "<matplotlib.figure.Figure at 0xbd08860>"
      ]
     },
     "metadata": {},
     "output_type": "display_data"
    }
   ],
   "source": [
    "coef_plot(w)"
   ]
  },
  {
   "cell_type": "code",
   "execution_count": 125,
   "metadata": {},
   "outputs": [
    {
     "data": {
      "image/png": "[encoded data removed]",
      "text/plain": [
       "<matplotlib.figure.Figure at 0xf5417f0>"
      ]
     },
     "metadata": {},
     "output_type": "display_data"
    }
   ],
   "source": [
    "pred_value_plot(Y_test,Y_test_pred)"
   ]
  },
  {
   "cell_type": "code",
   "execution_count": 160,
   "metadata": {},
   "outputs": [
    {
     "data": {
      "image/png": "[encoded data removed]",
      "text/plain": [
       "<matplotlib.figure.Figure at 0x4fd0fd0>"
      ]
     },
     "metadata": {},
     "output_type": "display_data"
    }
   ],
   "source": [
    "# residual = true - fitted\n",
    "residual_plot(Y_test,Y_test_pred)\n",
    "# plt.hist(Y_test-Y_test_pred)\n",
    "# plt.xlabel('residual')\n",
    "# plt.show()"
   ]
  },
  {
   "cell_type": "markdown",
   "metadata": {},
   "source": [
    "## Huber,ridge"
   ]
  },
  {
   "cell_type": "code",
   "execution_count": 127,
   "metadata": {},
   "outputs": [
    {
     "data": {
      "text/plain": [
       "array([ 0.6486,  0.6473,  0.6471,  0.6471,  0.647 ])"
      ]
     },
     "execution_count": 127,
     "metadata": {},
     "output_type": "execute_result"
    }
   ],
   "source": [
    "# n-th fold cross validation\n",
    "K = 10\n",
    "kf = KFold(n_splits = K)\n",
    "epsilon_list = [2.0,3.0,4.0,5.0,6.0]\n",
    "error = np.zeros(len(epsilon_list))\n",
    "for i in range(len(epsilon_list)):\n",
    "    huber = linear_model.HuberRegressor(epsilon=epsilon_list[i], max_iter=1000, alpha=0.)\n",
    "    for train_index, test_index in kf.split(X):\n",
    "        Xv_train,Xv_test = X[train_index],X[test_index]\n",
    "        Yv_train,Yv_test = Y[train_index],Y[test_index]\n",
    "        huber.fit(Xv_train,Yv_train)\n",
    "        error[i] += mean_squared_error(Yv_test,huber.predict(Xv_test))\n",
    "error = error/(K*1.0)\n",
    "error"
   ]
  },
  {
   "cell_type": "code",
   "execution_count": 228,
   "metadata": {},
   "outputs": [
    {
     "data": {
      "text/plain": [
       "0.64654244121074889"
      ]
     },
     "execution_count": 228,
     "metadata": {},
     "output_type": "execute_result"
    }
   ],
   "source": [
    "huber = linear_model.HuberRegressor(epsilon=epsilon_list[np.argmin(error)], max_iter=1000, alpha=0)\n",
    "# lasso = linear_model.Lasso(alpha=alpha_list[np.argmin(error)], fit_intercept=False, normalize=False, max_iter=5000)\n",
    "huber.fit(X,Y)\n",
    "Y_test_pred = huber.predict(X_test)\n",
    "mean_squared_error(Y_test,Y_test_pred)"
   ]
  },
  {
   "cell_type": "code",
   "execution_count": 229,
   "metadata": {},
   "outputs": [
    {
     "data": {
      "image/png": "[encoded data removed]",
      "text/plain": [
       "<matplotlib.figure.Figure at 0xbd13518>"
      ]
     },
     "metadata": {},
     "output_type": "display_data"
    }
   ],
   "source": [
    "pred_value_plot(Y_test,Y_test_pred)"
   ]
  },
  {
   "cell_type": "code",
   "execution_count": 230,
   "metadata": {},
   "outputs": [
    {
     "data": {
      "image/png": "[encoded data removed]",
      "text/plain": [
       "<matplotlib.figure.Figure at 0xf2d22b0>"
      ]
     },
     "metadata": {},
     "output_type": "display_data"
    }
   ],
   "source": [
    "residual_plot(Y_test,Y_test_pred)"
   ]
  },
  {
   "cell_type": "markdown",
   "metadata": {},
   "source": [
    "## two parts"
   ]
  },
  {
   "cell_type": "code",
   "execution_count": null,
   "metadata": {},
   "outputs": [],
   "source": [
    "# # n-th fold cross validation\n",
    "K = 10\n",
    "kf = KFold(n_splits = K)\n",
    "t_list = [13,14,15,16,17]\n",
    "error = np.zeros(len(t_list))\n",
    "for i in range(len(t_list)):\n",
    "    t = t_list[i]\n",
    "    for train_index, test_index in kf.split(X):\n",
    "        Xv_train,Xv_test = X[train_index],X[test_index]\n",
    "        Yv_train,Yv_test = Y[train_index],Y[test_index]\n",
    "        # fit two parts model on Xv_train\n",
    "        X1 = np.squeeze(Xv_train[np.where(Yv_train<=t),:])\n",
    "        X2 = np.squeeze(Xv_train[np.where(Yv_train>t),:])\n",
    "        Y1 = Yv_train[np.where(Yv_train<=t)]\n",
    "        Y2 = Yv_train[np.where(Yv_train>t)]\n",
    "        w = np.dot(np.linalg.pinv(Xv_train),Yv_train)\n",
    "        w1 = np.dot(np.linalg.pinv(X1),Y1)\n",
    "        w2 = np.dot(np.linalg.pinv(X2),Y2)\n",
    "        rough = np.dot(Xv_test,w)\n",
    "        X_test1 = np.squeeze(Xv_test[np.where(rough<=t),:])\n",
    "        X_test2 = np.squeeze(Xv_test[np.where(rough>t),:])\n",
    "        Y_test1 = Yv_test[np.where(rough<=t)]\n",
    "        Y_test2 = Yv_test[np.where(rough>t)]\n",
    "        Y_test1_pred = np.dot(X_test1,w1)\n",
    "        Y_test2_pred = np.dot(X_test2,w2)\n",
    "        mse1 = mean_squared_error(Y_test1,Y_test1_pred)\n",
    "        mse2 = mean_squared_error(Y_test2,Y_test2_pred)\n",
    "        error[i] += (mse1*len(Y_test1)+mse2*len(Y_test2))/len(Yv_test)\n",
    "error = error/(K*1.0)\n",
    "error"
   ]
  },
  {
   "cell_type": "code",
   "execution_count": null,
   "metadata": {},
   "outputs": [],
   "source": [
    "# l2 loss, no regularizor, two parts\n",
    "t = 15\n",
    "X1 = np.squeeze(X[np.where(Y<=t),:])\n",
    "X2 = np.squeeze(X[np.where(Y>t),:])\n",
    "Y1 = Y[np.where(Y<=t)]\n",
    "Y2 = Y[np.where(Y>t)]\n",
    "w = np.dot(np.linalg.pinv(X),Y)\n",
    "w1 = np.dot(np.linalg.pinv(X1),Y1)\n",
    "w2 = np.dot(np.linalg.pinv(X2),Y2)\n",
    "rough = np.dot(X_test,w)\n",
    "X_test1 = np.squeeze(X_test[np.where(rough<=t),:])\n",
    "X_test2 = np.squeeze(X_test[np.where(rough>t),:])\n",
    "Y_test1 = Y_test[np.where(rough<=t)]\n",
    "Y_test2 = Y_test[np.where(rough>t)]\n",
    "Y_test1_pred = np.dot(X_test1,w1)\n",
    "Y_test2_pred = np.dot(X_test2,w2)\n",
    "mse1 = mean_squared_error(Y_test1,Y_test1_pred)\n",
    "mse2 = mean_squared_error(Y_test2,Y_test2_pred)\n",
    "print('mean_squared_error test: %.4f' % mse1)\n",
    "print('mean_squared_error test: %.4f' % mse2)\n",
    "print (mse1*len(Y_test1)+mse2*len(Y_test2))/len(Y_test)"
   ]
  },
  {
   "cell_type": "code",
   "execution_count": 51,
   "metadata": {},
   "outputs": [
    {
     "data": {
      "text/plain": [
       "array([ 0.57892944,  0.51888943,  0.52421879,  0.5750137 ,  0.61531918])"
      ]
     },
     "execution_count": 51,
     "metadata": {},
     "output_type": "execute_result"
    }
   ],
   "source": [
    "# # n-th fold cross validation\n",
    "K = 10\n",
    "kf = KFold(n_splits = K)\n",
    "t_list = [13,14,15,16,17]\n",
    "error = np.zeros(len(t_list))\n",
    "huber = linear_model.HuberRegressor(epsilon=6, max_iter=1000, alpha=0.1)\n",
    "huber1 = linear_model.HuberRegressor(epsilon=6, max_iter=1000, alpha=0.1)\n",
    "huber2 = linear_model.HuberRegressor(epsilon=6, max_iter=1000, alpha=0.1)\n",
    "for i in range(len(t_list)):\n",
    "    t = t_list[i]\n",
    "    for train_index, test_index in kf.split(X):\n",
    "        Xv_train,Xv_test = X[train_index],X[test_index]\n",
    "        Yv_train,Yv_test = Y[train_index],Y[test_index]\n",
    "        # fit two parts model on Xv_train\n",
    "        X1 = np.squeeze(Xv_train[np.where(Yv_train<=t),:])\n",
    "        X2 = np.squeeze(Xv_train[np.where(Yv_train>t),:])\n",
    "        Y1 = Yv_train[np.where(Yv_train<=t)]\n",
    "        Y2 = Yv_train[np.where(Yv_train>t)]\n",
    "        huber.fit(Xv_train,Yv_train)\n",
    "        huber1.fit(X1,Y1)\n",
    "        huber2.fit(X2,Y2)\n",
    "        rough = huber.predict(Xv_test)\n",
    "        X_test1 = np.squeeze(Xv_test[np.where(rough<=t),:])\n",
    "        X_test2 = np.squeeze(Xv_test[np.where(rough>t),:])\n",
    "        Y_test1 = Yv_test[np.where(rough<=t)]\n",
    "        Y_test2 = Yv_test[np.where(rough>t)]\n",
    "        Y_test1_pred = huber1.predict(X_test1)\n",
    "        Y_test2_pred = huber2.predict(X_test2)\n",
    "        mse1 = mean_squared_error(Y_test1,Y_test1_pred)\n",
    "        mse2 = mean_squared_error(Y_test2,Y_test2_pred)\n",
    "        error[i] += (mse1*len(Y_test1)+mse2*len(Y_test2))/len(Yv_test)\n",
    "error = error/(K*1.0)\n",
    "error"
   ]
  },
  {
   "cell_type": "code",
   "execution_count": 71,
   "metadata": {},
   "outputs": [
    {
     "name": "stdout",
     "output_type": "stream",
     "text": [
      "mean_squared_error test: 0.5412\n",
      "mean_squared_error test: 0.3943\n",
      "0.506503881493\n"
     ]
    }
   ],
   "source": [
    "# l2 loss, no regularizor, two parts\n",
    "t = 14\n",
    "huber = linear_model.HuberRegressor(epsilon=6, max_iter=1000, alpha=0.001)\n",
    "huber1 = linear_model.HuberRegressor(epsilon=6, max_iter=1000, alpha=0.001)\n",
    "huber2 = linear_model.HuberRegressor(epsilon=6, max_iter=1000, alpha=0.001)\n",
    "X1 = np.squeeze(X[np.where(Y<=t),:])\n",
    "X2 = np.squeeze(X[np.where(Y>t),:])\n",
    "Y1 = Y[np.where(Y<=t)]\n",
    "Y2 = Y[np.where(Y>t)]\n",
    "huber.fit(X,Y)\n",
    "huber1.fit(X1,Y1)\n",
    "huber2.fit(X2,Y2)\n",
    "rough = huber.predict(X_test)\n",
    "X_test1 = np.squeeze(X_test[np.where(rough<=t),:])\n",
    "X_test2 = np.squeeze(X_test[np.where(rough>t),:])\n",
    "Y_test1 = Y_test[np.where(rough<=t)]\n",
    "Y_test2 = Y_test[np.where(rough>t)]\n",
    "Y_test1_pred = huber1.predict(X_test1)\n",
    "Y_test2_pred = huber2.predict(X_test2)\n",
    "mse1 = mean_squared_error(Y_test1,Y_test1_pred)\n",
    "mse2 = mean_squared_error(Y_test2,Y_test2_pred)\n",
    "print('mean_squared_error test: %.4f' % mse1)\n",
    "print('mean_squared_error test: %.4f' % mse2)\n",
    "print (mse1*len(Y_test1)+mse2*len(Y_test2))/len(Y_test)"
   ]
  },
  {
   "cell_type": "code",
   "execution_count": 74,
   "metadata": {},
   "outputs": [
    {
     "data": {
      "image/png": "[encoded data removed]",
      "text/plain": [
       "<matplotlib.figure.Figure at 0x136aa0b8>"
      ]
     },
     "metadata": {},
     "output_type": "display_data"
    }
   ],
   "source": [
    "pred_value_plot(np.hstack((Y_test1,Y_test2)),np.hstack((Y_test1_pred,Y_test2_pred)))"
   ]
  },
  {
   "cell_type": "code",
   "execution_count": 75,
   "metadata": {},
   "outputs": [
    {
     "data": {
      "image/png": "[encoded data removed]",
      "text/plain": [
       "<matplotlib.figure.Figure at 0x144a7da0>"
      ]
     },
     "metadata": {},
     "output_type": "display_data"
    }
   ],
   "source": [
    "residual_plot(np.hstack((Y_test1,Y_test2)),np.hstack((Y_test1_pred,Y_test2_pred)))"
   ]
  },
  {
   "cell_type": "code",
   "execution_count": 72,
   "metadata": {},
   "outputs": [
    {
     "data": {
      "image/png": "[encoded data removed]",
      "text/plain": [
       "<matplotlib.figure.Figure at 0x144db630>"
      ]
     },
     "metadata": {},
     "output_type": "display_data"
    }
   ],
   "source": [
    "coef_plot(huber1.coef_)"
   ]
  },
  {
   "cell_type": "code",
   "execution_count": 77,
   "metadata": {},
   "outputs": [
    {
     "data": {
      "text/plain": [
       "array([  4.61348101e+00,   6.60606293e+00,   5.67425469e+00,\n",
       "         4.96804300e+01,  -4.11421858e+00,   3.13229023e+00,\n",
       "        -3.96933088e+00,  -3.95044074e+00,  -2.85720957e+00,\n",
       "        -3.03911307e+00,   6.67271588e-01,   5.92526938e-02,\n",
       "        -2.08468305e-02,   1.34759307e+00,   9.07278964e-02,\n",
       "         8.42377886e-02,   4.07897270e-01,   1.90340215e-01,\n",
       "        -1.49351311e-01,   7.11109885e-01,  -8.91656820e-02,\n",
       "         7.98229152e-01,   5.33789335e-01,   3.62039392e-01,\n",
       "         5.09837874e-01,   1.03780876e+00,   5.67907284e-01,\n",
       "        -1.06729837e-01,  -6.61175062e-01,  -2.83795417e-02,\n",
       "        -2.00777544e-01,   1.18345710e-01,   9.85044394e-01,\n",
       "         7.19366138e-01,   1.16584392e+00,   7.60432086e-01,\n",
       "         2.61639614e-01,   1.05513513e+00,   8.17823945e-01,\n",
       "         1.19362856e+00,   9.49427145e-01,   5.70155046e-01,\n",
       "         6.44440150e-01,   4.17547485e+00])"
      ]
     },
     "execution_count": 77,
     "metadata": {},
     "output_type": "execute_result"
    }
   ],
   "source": [
    "huber1.coef_"
   ]
  },
  {
   "cell_type": "code",
   "execution_count": 73,
   "metadata": {},
   "outputs": [
    {
     "data": {
      "image/png": "[encoded data removed]",
      "text/plain": [
       "<matplotlib.figure.Figure at 0x13b48908>"
      ]
     },
     "metadata": {},
     "output_type": "display_data"
    }
   ],
   "source": [
    "coef_plot(huber2.coef_)"
   ]
  },
  {
   "cell_type": "code",
   "execution_count": 76,
   "metadata": {},
   "outputs": [
    {
     "data": {
      "text/plain": [
       "array([  2.14804081e+00,   1.80668002e+00,   8.10316155e-01,\n",
       "         2.10468046e+00,  -3.09078739e-01,   1.62103908e+00,\n",
       "        -4.23633919e-01,  -5.13054444e-01,  -4.97542627e-01,\n",
       "        -4.77689190e-02,   8.24065319e-01,   2.47401656e-01,\n",
       "         5.28202988e-03,   5.05977974e-02,  -6.40452564e-02,\n",
       "         4.84053499e-01,  -2.72143085e-01,   3.15085739e-02,\n",
       "         3.37880101e-01,   5.40694340e-01,   5.67888043e-01,\n",
       "         5.42989338e-01,   5.98859955e-01,   4.60967130e-01,\n",
       "         5.82530951e-01,   6.38605919e-01,   6.71535888e-01,\n",
       "         4.76552478e-01,   3.13685646e-01,   4.50009928e-01,\n",
       "         6.18855114e-01,   5.07743915e-01,   6.13265041e-01,\n",
       "         4.20292022e-01,   3.68597074e-01,   6.70984647e-01,\n",
       "         9.42577309e-01,   5.12493446e-01,   1.11342240e+00,\n",
       "         1.04339449e+00,   9.97578880e-01,   1.15955627e+00,\n",
       "         1.10455210e+00,   5.41850414e+00])"
      ]
     },
     "execution_count": 76,
     "metadata": {},
     "output_type": "execute_result"
    }
   ],
   "source": [
    "huber2.coef_"
   ]
  }
 ],
 "metadata": {
  "kernelspec": {
   "display_name": "Python 2",
   "language": "python",
   "name": "python2"
  },
  "language_info": {
   "codemirror_mode": {
    "name": "ipython",
    "version": 2
   },
   "file_extension": ".py",
   "mimetype": "text/x-python",
   "name": "python",
   "nbconvert_exporter": "python",
   "pygments_lexer": "ipython2",
   "version": "2.7.14"
  }
 },
 "nbformat": 4,
 "nbformat_minor": 2
}
